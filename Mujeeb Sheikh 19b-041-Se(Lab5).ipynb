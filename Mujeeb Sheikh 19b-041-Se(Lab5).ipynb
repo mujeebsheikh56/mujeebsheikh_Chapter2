{
 "cells": [
  {
   "cell_type": "markdown",
   "metadata": {},
   "source": [
    "# Lab 5 Task"
   ]
  },
  {
   "cell_type": "code",
   "execution_count": 5,
   "metadata": {},
   "outputs": [
    {
     "name": "stdout",
     "output_type": "stream",
     "text": [
      "The area of cylinder is : 175.92918860102841 cm**2\n",
      "The volume of cylinder is : 1385.4423602330987 cm**3\n"
     ]
    }
   ],
   "source": [
    "#QUESTION 1 \n",
    "from math import pi\n",
    "\n",
    "def surfaceArea(r,h):    \n",
    "    area = 2*pi*r*h + 2*pi*r**2    \n",
    "    return area \n",
    "r=4 \n",
    "h=3 \n",
    "print(\"The area of cylinder is :\",surfaceArea(r,h),'cm**2')\n",
    "\n",
    "# Volume Of A cylinder\n",
    "\n",
    "import math\n",
    "pi=math.pi \n",
    "def Volume(r,h):    \n",
    "    vol = pi*r**2*h   \n",
    "    return vol \n",
    "r=7\n",
    "h=9 \n",
    "print(\"The volume of cylinder is :\",Volume(r,h),'cm**3') "
   ]
  },
  {
   "cell_type": "code",
   "execution_count": 6,
   "metadata": {},
   "outputs": [
    {
     "name": "stdout",
     "output_type": "stream",
     "text": [
      "The Area of cylinder is : 15 cm\n",
      "The Area of cylinder is : 45 cm\n"
     ]
    }
   ],
   "source": [
    "# Question No 2:\n",
    "import math \n",
    "pi=math.pi \n",
    "def SurfArea(l,w):\n",
    "    Area = l*w    \n",
    "    return Area\n",
    "\n",
    "l=3\n",
    "w=5\n",
    "print(\"The Area of cylinder is :\",SurfArea(l,w),'cm') \n",
    "\n",
    "# volume \n",
    "import math \n",
    "pi=math.pi \n",
    "def Volume(l,w,h):\n",
    "    Vol = l*w*h   \n",
    "    return Vol\n",
    "\n",
    "l=3 \n",
    "w=5\n",
    "h=3 \n",
    "print(\"The Area of cylinder is :\",Volume(l,w,h),'cm')\n",
    "\n"
   ]
  },
  {
   "cell_type": "code",
   "execution_count": 16,
   "metadata": {},
   "outputs": [
    {
     "name": "stdout",
     "output_type": "stream",
     "text": [
      "The Value of the sequence is  207\n",
      "The Value of the sequence is  267\n",
      "The Value of the sequence is  327\n"
     ]
    }
   ],
   "source": [
    "# Question No 3:\n",
    "def Airthmeticsequence(a1,n,d): \n",
    "    an = a1+(n-1)*d    \n",
    "    return an\n",
    "print(\"The Value of the sequence is \",Airthmeticsequence(3,35,6)) \n",
    "\n",
    "def Airthmeticsequence(a1,n,d): \n",
    "    an = a1+(n-1)*d    \n",
    "    return an\n",
    "print(\"The Value of the sequence is \",Airthmeticsequence(3,45,6)) \n",
    "\n",
    "def Airthmeticsequence(a1,n,d): \n",
    "    an = a1+(n-1)*d    \n",
    "    return an\n",
    "print(\"The Value of the sequence is \",Airthmeticsequence(3,55,6))\n"
   ]
  },
  {
   "cell_type": "code",
   "execution_count": 4,
   "metadata": {},
   "outputs": [
    {
     "name": "stdout",
     "output_type": "stream",
     "text": [
      "The Given string is not Pallndrome\n"
     ]
    }
   ],
   "source": [
    "# Question No 4:\n",
    "\n",
    "def reverse(s):\n",
    "    return s[::-2]   \n",
    "def Palindrome(s):     \n",
    "    rev = reverse(s)      \n",
    "    if (s == rev):         \n",
    "        return True    \n",
    "    return False   \n",
    "s = \"Muhammad Danish\" \n",
    "ans = Palindrome(s)    \n",
    "if ans == 1:    \n",
    "    print(\"The Given string is Palindrome\")  \n",
    "else:    \n",
    "    print(\"The Given string is not Pallndrome\") "
   ]
  },
  {
   "cell_type": "code",
   "execution_count": 7,
   "metadata": {},
   "outputs": [
    {
     "name": "stdout",
     "output_type": "stream",
     "text": [
      "-----------------------------------------------------------------------------------------------------\n",
      "Welcome to Usman Institute of Technology \n",
      "Further Process for Admission Please Fill The Form First \n",
      "-----------------------------------------------------------------------------------------------------\n",
      "Enter The Student Name: Mujeeb Sheikh\n",
      "Enter the Father Name: Saifullah Shaikh\n",
      "Enter the Student Roll No: 19b-041-Se\n",
      "Enter Your Name of Your College: Liaquat College Of Management and Science\n",
      "-----------------------------------------------------------------------------------------------------\n",
      "\n",
      "Marks of Maths out of 100 are: 95\n",
      "Marks of Urdu out of 100 are: 75\n",
      "Marks of Physics out of 100 are: 85\n",
      "Marks of Islamiat out of 100 are: 68\n",
      "Marks of Chemistry out of 100 are: 85\n",
      "\n",
      "Student's Name:  Mujeeb Sheikh\n",
      "Father's Name:  Saifullah Shaikh\n",
      "Roll Number:  19b-041-Se\n",
      "\n",
      "Percentage:  81.6 %\n",
      "Grade: A\n",
      "-----------------------------------------------------------------------------------------------------\n"
     ]
    }
   ],
   "source": [
    "# Question No 5:\n",
    "\n",
    "print(\"-----------------------------------------------------------------------------------------------------\")\n",
    "print(\"Welcome to Usman Institute of Technology \") \n",
    "print(\"Further Process for Admission Please Fill The Form First \")\n",
    "print(\"-----------------------------------------------------------------------------------------------------\") \n",
    "student_name=input(\"Enter The Student Name: \")\n",
    "Father_name=input(\"Enter the Father Name: \")\n",
    "Roll_no=(input(\"Enter the Student Roll No: \"))\n",
    "college_name=input(\"Enter Your Name of Your College: \") \n",
    "print(\"-----------------------------------------------------------------------------------------------------\") \n",
    "print() \n",
    "marks1=int(input(\"Marks of Maths out of 100 are: \"))\n",
    "marks2=int(input(\"Marks of Urdu out of 100 are: \")) \n",
    "marks3=int(input(\"Marks of Physics out of 100 are: \")) \n",
    "marks4=int(input(\"Marks of Islamiat out of 100 are: \")) \n",
    "marks5=int(input(\"Marks of Chemistry out of 100 are: \")) \n",
    "print()\n",
    "\n",
    "print(\"Student's Name: \",student_name) \n",
    "print(\"Father's Name: \",Father_name) \n",
    "print(\"Roll Number: \",Roll_no) \n",
    "print()\n",
    "\n",
    "obt_marks=marks1+marks2+marks3+marks4+marks5\n",
    "tot_marks=500 \n",
    "\n",
    "def percentage(tot_marks,obt_marks):    \n",
    "    x=(obt_marks/tot_marks)*100    \n",
    "    return x \n",
    "def grade(x):    \n",
    "    if x>=80:        \n",
    "        return(\"Grade: A\")    \n",
    "    elif x<80 and x>=70:        \n",
    "        return(\"Grade: B\")    \n",
    "    elif x<70 and x>=60:       \n",
    "        return(\"Grade: C\")   \n",
    "    elif x<60:        \n",
    "        return(\"Grade: F\")\n",
    "    \n",
    "xPercent = percentage(tot_marks,obt_marks)\n",
    "xGrade = grade(xPercent) \n",
    "print(\"Percentage: \",xPercent,\"%\") \n",
    "print(xGrade) \n",
    "print(\"-----------------------------------------------------------------------------------------------------\") "
   ]
  },
  {
   "cell_type": "code",
   "execution_count": 35,
   "metadata": {},
   "outputs": [
    {
     "name": "stdout",
     "output_type": "stream",
     "text": [
      "The value of projectile motion  is : 162.11944428505706 m/s\n"
     ]
    }
   ],
   "source": [
    "# Question No 7:calculate projectile motion \n",
    "import math \n",
    "angle =math.sin \n",
    "def Projectile(vi,angle,g):   \n",
    "    r = math.sin(angle)*2*vi*g    \n",
    "    return r   \n",
    "print(\"The value of projectile motion  is :\",Projectile(15,32,9.8),'m/s')\n",
    "\n"
   ]
  },
  {
   "cell_type": "code",
   "execution_count": 12,
   "metadata": {},
   "outputs": [
    {
     "name": "stdout",
     "output_type": "stream",
     "text": [
      "Newton 1st law is : 28 m/s\n"
     ]
    }
   ],
   "source": [
    "# Question No 6: Newton Law\n",
    "import math \n",
    "def NewtonLaw_1(m,a):    \n",
    "    f = m*a    \n",
    "    return f \n",
    "print(\"Newton 1st law is :\",NewtonLaw_1(7,4),'m/s')\n"
   ]
  },
  {
   "cell_type": "code",
   "execution_count": 8,
   "metadata": {},
   "outputs": [
    {
     "name": "stdout",
     "output_type": "stream",
     "text": [
      "The original string  is : Mujeeb\n",
      "The reversed string is : beejuM\n"
     ]
    }
   ],
   "source": [
    "# Question No 8: \n",
    " \n",
    "def reverse(n):    \n",
    "        if len(n) == 0:        \n",
    "            return n     \n",
    "        else:        \n",
    "            return reverse(n[1:]) + n[0]\n",
    "n=\"Mujeeb\"\n",
    "print (\"The original string  is : \",end=\"\")  \n",
    "print (n)    \n",
    "print (\"The reversed string is : \",end=\"\") \n",
    "print (reverse(n))\n"
   ]
  },
  {
   "cell_type": "code",
   "execution_count": 19,
   "metadata": {},
   "outputs": [
    {
     "name": "stdout",
     "output_type": "stream",
     "text": [
      "Perimeter of semi-circle is:  21.991148575128552 cm**2\n",
      "\n",
      "Perimeter of semi circle excluding 2 small semi circles:  0.0 cm**2\n",
      "\n",
      "The area of big semi circle is:  76.96902001294993 cm**2\n",
      "\n",
      "Area of semi circle excluding 2 small semi circles:  38.48451000647496 cm **2\n"
     ]
    }
   ],
   "source": [
    "# Question No 11:\n",
    "from math import pi\n",
    "\n",
    "d1=14 \n",
    "d2=7 \n",
    "d3=7 \n",
    "\n",
    "perimeter_1=pi*(d1/2)\n",
    "print(\"Perimeter of semi-circle is: \",perimeter_1,\"cm**2\") \n",
    "print()\n",
    "perimeter_2=pi*(d2/2) \n",
    "perimeter_3=pi*(d3/2) \n",
    "print(\"Perimeter of semi circle excluding 2 small semi circles: \",perimeter_1-(perimeter_2+perimeter_3),\"cm**2\")\n",
    "print()\n",
    "area_1= (pi * (d1/2)**2)/2 \n",
    "print(\"The area of big semi circle is: \",area_1,\"cm**2\") \n",
    "print()\n",
    "area_2= (pi * (d2/2)**2)/2\n",
    "area_3= (pi * (d3/2)**2)/2\n",
    "print(\"Area of semi circle excluding 2 small semi circles: \",area_1-(area_2+area_3),\"cm **2\")\n"
   ]
  }
 ],
 "metadata": {
  "kernelspec": {
   "display_name": "Python 3",
   "language": "python",
   "name": "python3"
  },
  "language_info": {
   "codemirror_mode": {
    "name": "ipython",
    "version": 3
   },
   "file_extension": ".py",
   "mimetype": "text/x-python",
   "name": "python",
   "nbconvert_exporter": "python",
   "pygments_lexer": "ipython3",
   "version": "3.7.3"
  }
 },
 "nbformat": 4,
 "nbformat_minor": 2
}
