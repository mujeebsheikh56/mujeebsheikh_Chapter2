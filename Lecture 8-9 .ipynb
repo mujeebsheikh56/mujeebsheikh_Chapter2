{
 "cells": [
  {
   "cell_type": "markdown",
   "metadata": {},
   "source": [
    "# Lecture 8-9 Assignment"
   ]
  },
  {
   "cell_type": "code",
   "execution_count": 18,
   "metadata": {},
   "outputs": [
    {
     "name": "stdout",
     "output_type": "stream",
     "text": [
      "Enter The Marks of Maths out of 100 :85\n",
      "Enter The Marks of Chemistry 100:95\n",
      "Enter The Marks of Physics 100:83\n",
      "Enter The Marks of English 100 :86\n",
      "Enter The Marks of Urdu 100:55\n",
      "The total obtained marks are : 321\n",
      "tot_marks: 500\n",
      "Percentange is 64.2 %\n",
      "B Grade\n",
      "\n"
     ]
    }
   ],
   "source": [
    "#Design an application in which you can get all marks from your FSc Marks sheet; #\n",
    "#based on your marks decide either the person is passed in A+, A, B, C, D #\n",
    "#grades or got ”F” grade\n",
    "\n",
    "Maths = int(input(\"Enter The Marks of Maths out of 100 :\"))\n",
    "Chemistry = int(input(\"Enter The Marks of Chemistry 100:\"))\n",
    "Physics = int(input(\"Enter The Marks of Physics 100:\"))\n",
    "English= int(input(\"Enter The Marks of English 100 :\"))\n",
    "Urdu = int(input(\"Enter The Marks of Urdu 100:\"))\n",
    "obt_marks=Maths+Chemistry+English+Urdu\n",
    "tot_marks=500\n",
    "print(\"The total obtained marks are :\",obt_marks)\n",
    "print(\"tot_marks: 500\")\n",
    "perc=obt_marks/tot_marks*100\n",
    "print(\"Percentange is\",perc,'%')\n",
    "if perc>=80:\n",
    "    print(\"A-one Grade\")\n",
    "if perc<80 and perc>=70:\n",
    "    print(\"A Grade\")\n",
    "if perc<70 and perc>=60:\n",
    "    print(\"B Grade\")\n",
    "if perc<60 and perc>=50:\n",
    "    print(\"C Grade\")\n",
    "if perc<50 and perc>=40:\n",
    "    print(\"FAIL\")\n",
    "print()"
   ]
  },
  {
   "cell_type": "code",
   "execution_count": 20,
   "metadata": {},
   "outputs": [
    {
     "name": "stdout",
     "output_type": "stream",
     "text": [
      "Mujeeb I would like to invite you in Graduation Ceremony \n",
      "Saboor I would like to invite you in Graduation Ceremony \n",
      "Oh My Lovely Friend  Abdullah  I would like to invite you in Graduation Ceremony\n",
      "Rafay I would like to invite you in Graduation Ceremony \n",
      "Oh My Lovely Friend  Umer  I would like to invite you in Graduation Ceremony\n",
      "Shehreyar I would like to invite you in Graduation Ceremony \n"
     ]
    }
   ],
   "source": [
    "# Question No 2\n",
    "\n",
    "#Design an application in which you print all the names of your friends whom you are calling on your graduation ceremony\n",
    "#(use iteration logic). If name of your friend starts with vowels then print ”Oh my lovely friend” in the start otherwise \n",
    "#it would be ”name of friend, I would like you to come on my graduation ceremony\n",
    "\n",
    "Name_list = ('Mujeeb','Saboor','Abdullah','Rafay','Umer','Shehreyar')\n",
    "for i in Name_list:\n",
    "    if i[0] in ('a','e','i','o','u','A','E','I','O','U'):\n",
    "        print(\"Oh My Lovely Friend \",i,\" I would like to invite you in Graduation Ceremony\")\n",
    "    else:\n",
    "        print(i,\"I would like to invite you in Graduation Ceremony \")\n",
    "    \n",
    "    \n",
    "    \n",
    "\n",
    "\n",
    "        \n",
    "    "
   ]
  },
  {
   "cell_type": "code",
   "execution_count": null,
   "metadata": {},
   "outputs": [],
   "source": []
  }
 ],
 "metadata": {
  "kernelspec": {
   "display_name": "Python 3",
   "language": "python",
   "name": "python3"
  },
  "language_info": {
   "codemirror_mode": {
    "name": "ipython",
    "version": 3
   },
   "file_extension": ".py",
   "mimetype": "text/x-python",
   "name": "python",
   "nbconvert_exporter": "python",
   "pygments_lexer": "ipython3",
   "version": "3.7.3"
  }
 },
 "nbformat": 4,
 "nbformat_minor": 2
}
