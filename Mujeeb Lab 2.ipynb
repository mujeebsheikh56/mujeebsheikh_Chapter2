{
 "cells": [
  {
   "cell_type": "code",
   "execution_count": 1,
   "metadata": {},
   "outputs": [
    {
     "name": "stdout",
     "output_type": "stream",
     "text": [
      "10 days, 0:00:00\n"
     ]
    }
   ],
   "source": [
    "from datetime import date\n",
    "f_date=date(2019,10,20)\n",
    "l_date=date(2019,10,30)\n",
    "variable_date=l_date-f_date\n",
    "print(variable_date)\n"
   ]
  },
  {
   "cell_type": "code",
   "execution_count": 5,
   "metadata": {},
   "outputs": [
    {
     "name": "stdout",
     "output_type": "stream",
     "text": [
      "the heght of ladder is -6.204506166550887\n"
     ]
    }
   ],
   "source": [
    "\n",
    "import math\n",
    "pi=3.142\n",
    "length=16\n",
    "angle=75\n",
    "radians=pi * angle /180\n",
    "height=math.sin(angle)*length\n",
    "print(\"the heght of ladder is\",(height)) "
   ]
  },
  {
   "cell_type": "code",
   "execution_count": 6,
   "metadata": {},
   "outputs": [
    {
     "name": "stdout",
     "output_type": "stream",
     "text": [
      "the heght of ladder is 0.0\n"
     ]
    }
   ],
   "source": [
    "import math\n",
    "pi=3.142\n",
    "length=20\n",
    "angle=0\n",
    "radians=pi * angle /180\n",
    "height=math.sin(angle)*length\n",
    "print(\"the heght of ladder is\",(height)) "
   ]
  },
  {
   "cell_type": "code",
   "execution_count": 7,
   "metadata": {},
   "outputs": [
    {
     "name": "stdout",
     "output_type": "stream",
     "text": [
      "the heght of ladder is 20.42168458881884\n"
     ]
    }
   ],
   "source": [
    "import math\n",
    "pi=3.142\n",
    "length=24\n",
    "angle=45\n",
    "radians=pi * angle /180\n",
    "height=math.sin(angle)*length\n",
    "print(\"the heght of ladder is\",(height)) "
   ]
  },
  {
   "cell_type": "code",
   "execution_count": 8,
   "metadata": {},
   "outputs": [
    {
     "name": "stdout",
     "output_type": "stream",
     "text": [
      "the heght of ladder is -23.853327694161006\n"
     ]
    }
   ],
   "source": [
    "import math\n",
    "pi=3.142\n",
    "length=24\n",
    "angle=80\n",
    "radians=pi * angle /180\n",
    "height=math.sin(angle)*length\n",
    "print(\"the heght of ladder is\",(height)) "
   ]
  },
  {
   "cell_type": "code",
   "execution_count": 3,
   "metadata": {},
   "outputs": [
    {
     "name": "stdout",
     "output_type": "stream",
     "text": [
      "[9, 8, 7, 5, 5, 2]\n"
     ]
    }
   ],
   "source": [
    "# ascending order\n",
    "number=[2,5,8,5,7,9]\n",
    "number.sort(reverse=True)\n",
    "print (number)"
   ]
  },
  {
   "cell_type": "code",
   "execution_count": 4,
   "metadata": {},
   "outputs": [
    {
     "name": "stdout",
     "output_type": "stream",
     "text": [
      "[10, 9, 6, 5, 2]\n"
     ]
    }
   ],
   "source": [
    "# descending order\n",
    "number=[5,6,2,9,10]\n",
    "number.sort(reverse=True)\n",
    "print (number)\n"
   ]
  },
  {
   "cell_type": "code",
   "execution_count": 6,
   "metadata": {},
   "outputs": [
    {
     "name": "stdout",
     "output_type": "stream",
     "text": [
      "index of number 4: 1\n"
     ]
    }
   ],
   "source": [
    "# index of particular number in the lit\n",
    "number=['2','4','5','6']\n",
    "index=number.index('4')\n",
    "print (\"index of number 4:\",index)"
   ]
  },
  {
   "cell_type": "code",
   "execution_count": 7,
   "metadata": {},
   "outputs": [
    {
     "name": "stdout",
     "output_type": "stream",
     "text": [
      "9\n"
     ]
    }
   ],
   "source": [
    "lst = [6 , 7 , 4 , 8 , 9]\n",
    "b = lst [4]\n",
    "print(b)"
   ]
  },
  {
   "cell_type": "code",
   "execution_count": 7,
   "metadata": {},
   "outputs": [
    {
     "name": "stdout",
     "output_type": "stream",
     "text": [
      "['jan', 'feb', 'march', 'may', 'apr']\n"
     ]
    }
   ],
   "source": [
    "# list of months\n",
    "monthsL=[\"jan\",\"feb\",\"march\",\"may\"]\n",
    "monthsT=[\"jan\",\"feb\",\"march\",\"may\"]\n",
    "monthsL.insert(4,\"apr\")\n",
    "print(monthsL)"
   ]
  },
  {
   "cell_type": "code",
   "execution_count": 8,
   "metadata": {},
   "outputs": [
    {
     "name": "stdout",
     "output_type": "stream",
     "text": [
      "['jan', 'feb', 'march', 'may', 'jan']\n"
     ]
    }
   ],
   "source": [
    "monthsL=[\"jan\",\"feb\",\"march\",\"may\"]\n",
    "monthsT=[\"jan\",\"feb\",\"march\",\"may\"]\n",
    "monthsL.append(\"jan\")\n",
    "print(monthsL)"
   ]
  },
  {
   "cell_type": "code",
   "execution_count": 9,
   "metadata": {},
   "outputs": [
    {
     "name": "stdout",
     "output_type": "stream",
     "text": [
      "['may', 'march', 'jan', 'feb']\n"
     ]
    }
   ],
   "source": [
    "monthsL=['jan','feb','march','may']\n",
    "monthsL.sort(reverse=True)\n",
    "print(monthsL)"
   ]
  },
  {
   "cell_type": "code",
   "execution_count": 10,
   "metadata": {},
   "outputs": [
    {
     "name": "stdout",
     "output_type": "stream",
     "text": [
      "['jan', 'feb', 'may']\n"
     ]
    }
   ],
   "source": [
    "monthsL=['jan','feb','march','may']\n",
    "monthsL.remove('march')\n",
    "print(monthsL)"
   ]
  },
  {
   "cell_type": "code",
   "execution_count": 12,
   "metadata": {},
   "outputs": [
    {
     "name": "stdout",
     "output_type": "stream",
     "text": [
      "john fitzgerald kennedy\n",
      "9.5\n",
      "john fitzgerald kennedy\n"
     ]
    }
   ],
   "source": [
    "a=6\n",
    "b=7\n",
    "c=a+b/2\n",
    "inventory=[\"papers\",\"staples\",\"pencils\"]\n",
    "f_name='john'\n",
    "m_name='fitzgerald'\n",
    "l_name='kennedy'\n",
    "full_name=f_name+' '+m_name+' '+l_name\n",
    "full_name1=f_name + m_name + l_name\n",
    "print(full_name)\n",
    "print(c)\n",
    "print(full_name)"
   ]
  },
  {
   "cell_type": "code",
   "execution_count": 1,
   "metadata": {},
   "outputs": [
    {
     "name": "stdout",
     "output_type": "stream",
     "text": [
      "not found\n"
     ]
    }
   ],
   "source": [
    "bucket=\"floccinaucinihilipilification\"\n",
    "find=\"e\"\n",
    "if find in bucket:\n",
    "    print(\"found\")\n",
    "else:\n",
    "    print(\"not found\")"
   ]
  },
  {
   "cell_type": "code",
   "execution_count": 9,
   "metadata": {},
   "outputs": [
    {
     "name": "stdout",
     "output_type": "stream",
     "text": [
      "yes,they are equal\n"
     ]
    }
   ],
   "source": [
    "summ=len(\"counterrevolution\")\n",
    "first=len(\"counter\")\n",
    "second=len(\"revolution\")\n",
    "tsum=first+second\n",
    "if summ == tsum:\n",
    "    print(\"yes,they are equal\")\n",
    "else:\n",
    "    print(\"not,they are not equal\")"
   ]
  },
  {
   "cell_type": "code",
   "execution_count": 10,
   "metadata": {},
   "outputs": [
    {
     "name": "stdout",
     "output_type": "stream",
     "text": [
      "anachronistically\n"
     ]
    }
   ],
   "source": [
    "first=len(\"amnachronistically\")\n",
    "second=len(\"counterintuitive\")\n",
    "if first > second:\n",
    "    print(\"anachronistically\")\n",
    "else:\n",
    "    print(\"counterintuitive\")\n",
    "\n"
   ]
  },
  {
   "cell_type": "code",
   "execution_count": 2,
   "metadata": {},
   "outputs": [
    {
     "name": "stdout",
     "output_type": "stream",
     "text": [
      "this is how disctionary have these two words ['misinterpretation', 'misrepresentation']\n"
     ]
    }
   ],
   "source": [
    "a= \"misrepresentation\"\n",
    "b= \"misinterpretation\"\n",
    "lst = [a , b]\n",
    "lst.sort()\n",
    "print (\"this is how disctionary have these two words\" , lst)"
   ]
  },
  {
   "cell_type": "code",
   "execution_count": 1,
   "metadata": {},
   "outputs": [
    {
     "name": "stdout",
     "output_type": "stream",
     "text": [
      "True\n",
      "False\n",
      "True\n",
      "False\n"
     ]
    }
   ],
   "source": [
    "from math import *\n",
    "r = 10\n",
    "x = 0 \n",
    "y = 0\n",
    "a =sqrt((0-0)**2+(0-0)**2)\n",
    "b =sqrt((10-0)**2+(10-0)**2)\n",
    "c =sqrt((6-0)**2+(6-0)**2)\n",
    "d =sqrt((8-0)**2+(7-0)**2)\n",
    "print(a<r)\n",
    "print(b<r)\n",
    "print(c<r)\n",
    "print(d<r)\n"
   ]
  },
  {
   "cell_type": "code",
   "execution_count": null,
   "metadata": {},
   "outputs": [],
   "source": []
  }
 ],
 "metadata": {
  "kernelspec": {
   "display_name": "Python 3",
   "language": "python",
   "name": "python3"
  },
  "language_info": {
   "codemirror_mode": {
    "name": "ipython",
    "version": 3
   },
   "file_extension": ".py",
   "mimetype": "text/x-python",
   "name": "python",
   "nbconvert_exporter": "python",
   "pygments_lexer": "ipython3",
   "version": "3.7.3"
  }
 },
 "nbformat": 4,
 "nbformat_minor": 2
}
