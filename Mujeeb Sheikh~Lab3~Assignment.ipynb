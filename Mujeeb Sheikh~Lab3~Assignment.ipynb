{
 "cells": [
  {
   "cell_type": "markdown",
   "metadata": {},
   "source": [
    "# Lab 3 Assignment"
   ]
  },
  {
   "cell_type": "code",
   "execution_count": 17,
   "metadata": {},
   "outputs": [
    {
     "name": "stdout",
     "output_type": "stream",
     "text": [
      "linear velocity when radius is 0.5 meter and AngularSpeed is 10:5.0 m/s\n",
      "linear velocity when radius is 1 meter and AngularSpeed is 10:10 m/s\n",
      "linear velocity when radius is 3 meter and AngularSpeed is 10:30 m/s\n"
     ]
    }
   ],
   "source": [
    "# Question No 1: A ball at the end of a string is revolving uniformly in a horizontal circle of radius 2 meter constant\n",
    "# angular Speed 10 rad/s. Determine the magnitude of the linear velocity of a point located.\n",
    "\n",
    "# 0.5 meters from the center\n",
    "# 1 meter from the center\n",
    "# 2 meters from the center\n",
    "# Wanted: The Linear Velocity\n",
    "# Formula= V=rw\n",
    "\n",
    "#Given\n",
    "\n",
    "RadiusR1 = 0.5\n",
    "RadiusR2 = 1\n",
    "RadiusR3 = 3\n",
    "AngularSpeed  = 10 \n",
    "\n",
    "Velocity1 = RadiusR1 * AngularSpeed\n",
    "print (\"linear velocity when radius is 0.5 meter and AngularSpeed is 10:\"+str(Velocity1)+\" m/s\")\n",
    "\n",
    "Velocity2 = RadiusR2 * AngularSpeed\n",
    "print (\"linear velocity when radius is 1 meter and AngularSpeed is 10:\"+str(Velocity2)+\" m/s\")\n",
    "\n",
    "Velocity3 = RadiusR3 * AngularSpeed\n",
    "print (\"linear velocity when radius is 3 meter and AngularSpeed is 10:\"+str(Velocity3)+\" m/s\")\n"
   ]
  },
  {
   "cell_type": "code",
   "execution_count": 19,
   "metadata": {},
   "outputs": [
    {
     "name": "stdout",
     "output_type": "stream",
     "text": [
      "The magnitude of the linear velocity when radius is 5 centimeters is : 2615.62 m/s \n",
      "The magnitude of the linear velocity when radius is 10 centimeters is : 5231.24 m/s \n"
     ]
    }
   ],
   "source": [
    "# Question No 2: The blades in a blender rotate at a rate of 5000rpm. Determine the magnitude of the linear Velocity?\n",
    "\n",
    "# (a) a Point Located 5cm from the center\n",
    "# (b) a point located 10cm from the center\n",
    "# Known: Radius (r) = 5cm and 10cm\n",
    "# Wanted: The Magnitude of the linear Velocity\n",
    "# Formula: V=rw\n",
    "\n",
    "radius1 = 5\n",
    "radius2 = 10\n",
    "w= 5000/60\n",
    "w=83.3*6.28\n",
    "v1 = radius1*w\n",
    "print(\"The magnitude of the linear velocity when radius is 5 centimeters is : \"+str(v1)+\" m/s \")\n",
    "v2 = radius2*w\n",
    "print(\"The magnitude of the linear velocity when radius is 10 centimeters is : \"+str(v2)+\" m/s \")"
   ]
  },
  {
   "cell_type": "code",
   "execution_count": 20,
   "metadata": {},
   "outputs": [
    {
     "name": "stdout",
     "output_type": "stream",
     "text": [
      "the angular velocity is : 33.333333333333336 sec-1\n"
     ]
    }
   ],
   "source": [
    "# Question 3: A Point on the edge of a wheel 30cm in radius, around a circle at constant speed 10 m/sec. W\n",
    "# What is the magnitude of the angular Velocity?\n",
    "# Wanted: The angular Velocity\n",
    "# Formula: V=rw\n",
    "\n",
    "Radius = 0.3\n",
    "ConstantSpeed = 10\n",
    "w = ConstantSpeed/Radius\n",
    "print(\"the angular velocity is : \"+str(w)+\" sec-1\")"
   ]
  },
  {
   "cell_type": "code",
   "execution_count": 21,
   "metadata": {},
   "outputs": [
    {
     "name": "stdout",
     "output_type": "stream",
     "text": [
      "angular speed of car is : 40.0 sec-1\n"
     ]
    }
   ],
   "source": [
    "# Question No 4: A car with tires 50cm in diameter travels 10m in 1sec. What is the angular speed?\n",
    "# Wanted: The Angular Velocity \n",
    "# Formula: V=rw\n",
    "\n",
    "velocity = 10\n",
    "radius = 0.25\n",
    "angularspeed = velocity/radius\n",
    "print(\"angular speed of car is : \"+str(angularspeed)+\" sec-1\")"
   ]
  },
  {
   "cell_type": "code",
   "execution_count": 22,
   "metadata": {},
   "outputs": [
    {
     "name": "stdout",
     "output_type": "stream",
     "text": [
      "the distace covered by the car is : 25.120000000000005 meters \n"
     ]
    }
   ],
   "source": [
    "# Question No 5: The angular speed of wheel 20cm in radians is 120rpm. What is the difference if the car travels in 10sec?\n",
    "# Wanted: Distance\n",
    "# Formula = V=rw\n",
    "\n",
    "radius = 0.2\n",
    "Angularspeed = 12.56\n",
    "time = 10\n",
    "distance = radius*Angularspeed*time\n",
    "print(\"the distace covered by the car is : \"+str(distance)+\" meters \")"
   ]
  },
  {
   "cell_type": "code",
   "execution_count": 25,
   "metadata": {},
   "outputs": [
    {
     "name": "stdout",
     "output_type": "stream",
     "text": [
      "The Car will be 70 miles/hour far\n"
     ]
    }
   ],
   "source": [
    "# Question No 6: A car is running at a velocity of 50mles per hour and the driver acclerates the car by 10 miles/hr.\n",
    "# how far the car travels from this point in the next 2hours. if the acceleration is constant?\n",
    "# Formula: V = U + at\n",
    "\n",
    "u = 50 \n",
    "a = 10\n",
    "time = 2\n",
    "v = u+a*time\n",
    "print(\"The Car will be \"+str(v)+ \" miles/hour far\")"
   ]
  },
  {
   "cell_type": "code",
   "execution_count": 26,
   "metadata": {},
   "outputs": [
    {
     "name": "stdout",
     "output_type": "stream",
     "text": [
      "the velocity at which the stone will hit the ground is : 10 m/s \n"
     ]
    }
   ],
   "source": [
    "# Question No 7: A stone is dropped freely from a height of 100 feet. With what velocity will it hit the ground?\n",
    "# (Neglect the air resistance and assume the acceleration due to gravity is 32ft/s**2)\n",
    "\n",
    "from math import sqrt\n",
    "u = 0\n",
    "height = 100\n",
    "acceleration = 32\n",
    "veloity = sqrt(2*acceleration*height-u**2)\n",
    "print(\"the velocity at which the stone will hit the ground is : \"+str(velocity)+\" m/s \")"
   ]
  }
 ],
 "metadata": {
  "kernelspec": {
   "display_name": "Python 3",
   "language": "python",
   "name": "python3"
  },
  "language_info": {
   "codemirror_mode": {
    "name": "ipython",
    "version": 3
   },
   "file_extension": ".py",
   "mimetype": "text/x-python",
   "name": "python",
   "nbconvert_exporter": "python",
   "pygments_lexer": "ipython3",
   "version": "3.7.3"
  }
 },
 "nbformat": 4,
 "nbformat_minor": 2
}
