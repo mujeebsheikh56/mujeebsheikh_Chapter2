{
 "cells": [
  {
   "cell_type": "markdown",
   "metadata": {},
   "source": [
    "# Lecture 7 Assignment\n"
   ]
  },
  {
   "cell_type": "code",
   "execution_count": 1,
   "metadata": {},
   "outputs": [
    {
     "name": "stdout",
     "output_type": "stream",
     "text": [
      "Welcome to Usman Institute of Technology \n",
      "Further Process for Admission are as under \n",
      "Admission Form \n",
      "Enter The Student Name : Mujeeb Sheikh\n",
      "Enter the Father Name : Saifullah Shaikh\n",
      "Enter the Applicant No : 45\n",
      "Enter the marks obtained in HSC II : 456\n",
      "Enter the Marks Obtained In Entry Test : 59\n",
      "\n",
      "---You're  elligible to apply for admnission In UIT ---\n",
      "\n",
      "You're Elligible to take admission \n",
      "\n",
      "Thank You for Applying for Usman Institute of Technology \n"
     ]
    }
   ],
   "source": [
    "\n",
    "print(\"Welcome to Usman Institute of Technology \")\n",
    "print(\"Further Process for Admission are as under \")\n",
    "print(\"Admission Form \")\n",
    "name_student=input(\"Enter The Student Name : \")\n",
    "father_name=input(\"Enter the Father Name : \")\n",
    "application_no=int(input(\"Enter the Applicant No : \"))\n",
    "inter_marks=int(input(\"Enter the marks obtained in HSC II : \"))\n",
    "entry_test=int(input(\"Enter the Marks Obtained In Entry Test : \"))\n",
    "print()\n",
    "if inter_marks>60:\n",
    "    print(\"---You're  elligible to apply for admnission In UIT ---\")\n",
    "print()\n",
    "if entry_test>=50:\n",
    "    print(\"You're Elligible to take admission \")\n",
    "if entry_test<50:\n",
    "    print(\"You're not elligible\")\n",
    "print()\n",
    "print(\"Thank You for Applying for Usman Institute of Technology \")\n",
    "\n",
    "\n"
   ]
  }
 ],
 "metadata": {
  "kernelspec": {
   "display_name": "Python 3",
   "language": "python",
   "name": "python3"
  },
  "language_info": {
   "codemirror_mode": {
    "name": "ipython",
    "version": 3
   },
   "file_extension": ".py",
   "mimetype": "text/x-python",
   "name": "python",
   "nbconvert_exporter": "python",
   "pygments_lexer": "ipython3",
   "version": "3.7.3"
  }
 },
 "nbformat": 4,
 "nbformat_minor": 2
}
