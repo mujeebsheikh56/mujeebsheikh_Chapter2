{
 "cells": [
  {
   "cell_type": "markdown",
   "metadata": {},
   "source": [
    "# Lecture 5-6 Ex 2.1 to 2.31 UNSOLVED"
   ]
  },
  {
   "cell_type": "markdown",
   "metadata": {},
   "source": [
    "# Ex 2.1"
   ]
  },
  {
   "cell_type": "code",
   "execution_count": 23,
   "metadata": {
    "scrolled": false
   },
   "outputs": [
    {
     "name": "stdout",
     "output_type": "stream",
     "text": [
      "The Sum of 5 positive Integer is:  15\n",
      "\n",
      "The average age is:  24.333333333333332\n",
      "\n",
      "The number of times 73 goes into 403 is:  5\n",
      "\n",
      "The Remainder when 403 is divided by 73 is:  38\n",
      "\n",
      "The 2 to the 10th Power is :  1024\n",
      "\n",
      "The Absolute value of the difference between Sara's height and Mark's Height is:  3 inches\n",
      "\n",
      "The Lowest price is:  29.95 $\n"
     ]
    }
   ],
   "source": [
    "# Do practice problem 2.1 to 2.10, you can telly your answers at the end of the chapter.\n",
    "\n",
    "# part (a) The Sum of Five Positive Integer\n",
    "\n",
    "a = [1,2,3,4,5]\n",
    "print(\"The Sum of 5 positive Integer is: \",sum(a))\n",
    "print()\n",
    "\n",
    "# part (b) The average age of Sara (age23),Mark (age19),and Fatima(age31) \n",
    "\n",
    "Sara_age = 23\n",
    "Mark_age = 19\n",
    "Fatima_Age = 31\n",
    "average_Formula = (Sara_age+Mark_age+Fatima_Age)/3\n",
    "print(\"The average age is: \" ,average_Formula)\n",
    "print()\n",
    "\n",
    "#part (c) The number of times 73 goes into 403\n",
    "\n",
    "Value1 = 73\n",
    "Value2 = 403\n",
    "division = 403//73\n",
    "print(\"The number of times 73 goes into 403 is: \" ,division)\n",
    "print()\n",
    "\n",
    "# part(d)  The remainder when 403 is divided by 73\n",
    "\n",
    "Value1 = 403\n",
    "Value2 = 73\n",
    "Remainder = 403%73\n",
    "print(\"The Remainder when 403 is divided by 73 is: \" ,Remainder)\n",
    "print()\n",
    "\n",
    "# part (e) 2 to the 10th power\n",
    "\n",
    "a = 2\n",
    "power = 2**10\n",
    "print (\"The 2 to the 10th Power is : \", (power))\n",
    "print()\n",
    "\n",
    "# Part (f)  The absolute value of the diﬀerence between Sara’s height (54 inches) and Mark’s height(57inches) \n",
    "\n",
    "Sara_height = 54 \n",
    "Marks_height = 57 \n",
    "diff = (Sara_height-Marks_height)\n",
    "print(\"The Absolute value of the difference between Sara's height and Mark's Height is: \" ,abs(diff) ,\"inches\")\n",
    "print()\n",
    "\n",
    "# Part (g) The lowest price among the following prices:$34.99,$29.95,and$31.50\n",
    "\n",
    "Price_list=[34.99,29.95,31.50]\n",
    "print(\"The Lowest price is: \",min(Price_list),'$')\n",
    "\n",
    "\n"
   ]
  },
  {
   "cell_type": "markdown",
   "metadata": {},
   "source": [
    "# Ex 2.2"
   ]
  },
  {
   "cell_type": "code",
   "execution_count": 30,
   "metadata": {},
   "outputs": [
    {
     "name": "stdout",
     "output_type": "stream",
     "text": [
      "False\n",
      "True\n",
      "False\n",
      "True\n",
      "True\n",
      "False\n",
      "True\n"
     ]
    }
   ],
   "source": [
    "# Question no 1:\n",
    "#The sum of 2 and 2 is less than 4.\n",
    "x = 2\n",
    "y = x + x\n",
    "print (y<4)\n",
    "\n",
    "# Question no 2: The value of 7 // 3 is equal to 1 + 1.\n",
    "x = 7\n",
    "y = 3\n",
    "z = 7 // 3\n",
    "print(7//3==1+1)\n",
    "\n",
    "# Question no 3: The sum of 2, 4, and 6 is greater than 12.\n",
    "x = 2\n",
    "y = 4\n",
    "z = x+y+z\n",
    "print(z>12)\n",
    "\n",
    "# Question no 4: The sum of 3 squared and 4 squared is equal to 25.\n",
    "a = 3**2\n",
    "b = 4**2\n",
    "c = a + b\n",
    "print(c==25)\n",
    "\n",
    "# Question No 5: 1387 is divisible by 19.\n",
    "x = 1387\n",
    "y = 19\n",
    "z = x%y\n",
    "print(z==0)\n",
    "\n",
    "# Question no 6: 31 is even. (Hint: what does the remainder when you divide by 2 tell you?)\n",
    "x = 31\n",
    "y = 2\n",
    "z = x%y\n",
    "print(z==0)\n",
    "\n",
    "# Question no 7: The lowest price among $34.99, $29.95, and $31.50 is less than $30.00\n",
    "x = 34.99\n",
    "y = 29.95\n",
    "z = 31.50\n",
    "print(a<30.00 or b<30.00 or c<30 )"
   ]
  },
  {
   "cell_type": "markdown",
   "metadata": {},
   "source": [
    "# Ex 2.3"
   ]
  },
  {
   "cell_type": "code",
   "execution_count": 24,
   "metadata": {},
   "outputs": [
    {
     "name": "stdout",
     "output_type": "stream",
     "text": [
      "25\n"
     ]
    }
   ],
   "source": [
    "# Question No 1: Assign integer value 3 to variable a.\n",
    "a = 3\n",
    "b = 4\n",
    "c = a * a + b * b\n",
    "print (c)"
   ]
  },
  {
   "cell_type": "markdown",
   "metadata": {},
   "source": [
    "# Ex 2.4"
   ]
  },
  {
   "cell_type": "code",
   "execution_count": 138,
   "metadata": {},
   "outputs": [
    {
     "name": "stdout",
     "output_type": "stream",
     "text": [
      "ant bat cod\n",
      "ant ant ant ant ant ant ant ant \n",
      "ant bat bat  cod cod cod \n",
      "ant bat ant bat ant bat ant bat ant bat ant bat ant bat \n",
      "batbatcod batbatcod batbatcod \n"
     ]
    }
   ],
   "source": [
    "# Question no 1\n",
    "s1='ant'\n",
    "s2='bat'\n",
    "s3='cod'\n",
    "\n",
    "#Part (a)\n",
    "a=s1+' '+s2+' '+s3\n",
    "print(a)\n",
    "\n",
    "#part (b)\n",
    "print ((s1+' ')*8)\n",
    "\n",
    "#Part (c)\n",
    "b=s1+' '+ ((s2+' ')*2)+' '+((s3 + ' ')*3)\n",
    "print(b)\n",
    "       \n",
    "#Part (d)\n",
    "d=((s1+' '+s2)+' ')*7\n",
    "print(d)\n",
    "\n",
    "#Part (e)\n",
    "e=((s2*2)+s3+' ')*3\n",
    "print(e)\n",
    "\n"
   ]
  },
  {
   "cell_type": "markdown",
   "metadata": {},
   "source": [
    "# Ex 2.5\n"
   ]
  },
  {
   "cell_type": "code",
   "execution_count": 147,
   "metadata": {},
   "outputs": [
    {
     "name": "stdout",
     "output_type": "stream",
     "text": [
      "0\n",
      "1\n",
      "6\n",
      "8\n",
      "9\n"
     ]
    }
   ],
   "source": [
    "# Question no 1\n",
    "a = ('0123456789')\n",
    "\n",
    "#Part(a)\n",
    "print(a[0])\n",
    "#Part(b)\n",
    "print(a[1])\n",
    "#part (c)\n",
    "print(a[6])\n",
    "#Part(d)\n",
    "print(a[8])\n",
    "#Part (e)\n",
    "print(a[9])"
   ]
  },
  {
   "cell_type": "markdown",
   "metadata": {},
   "source": [
    "# Ex 2.6"
   ]
  },
  {
   "cell_type": "code",
   "execution_count": 155,
   "metadata": {},
   "outputs": [
    {
     "name": "stdout",
     "output_type": "stream",
     "text": [
      "badminton bat\n"
     ]
    }
   ],
   "source": [
    "# Question 1\n",
    "words = ['bat', 'ball', 'barn', 'basket', 'badminton']\n",
    "x= min(words)\n",
    "y= max(words)\n",
    "print(x,y)"
   ]
  },
  {
   "cell_type": "markdown",
   "metadata": {},
   "source": [
    "# Ex 2.7"
   ]
  },
  {
   "cell_type": "code",
   "execution_count": 170,
   "metadata": {},
   "outputs": [
    {
     "name": "stdout",
     "output_type": "stream",
     "text": [
      "2\n",
      "[9, 7, 7, 10, 3, 9, 6, 6, 4]\n",
      "10\n",
      "[3, 4, 6, 6, 7, 7, 9, 9, 10]\n",
      "6.777777777777778\n"
     ]
    }
   ],
   "source": [
    "# Question No 1:\n",
    "# Part(a)\n",
    "grades = [9, 7, 7, 10, 3, 9, 6, 6, 2]\n",
    "x=grades.count(7)\n",
    "print(x)\n",
    "\n",
    "# Part (b)\n",
    "grades[-1]=4\n",
    "print(grades)\n",
    "\n",
    "# Part(C)\n",
    "x=(max(grades))\n",
    "print(x)\n",
    "\n",
    "# Part (d)\n",
    "grades.sort()\n",
    "print(grades)\n",
    "\n",
    "# Part(e)\n",
    "average = sum(grades)/len(grades)\n",
    "print(average)"
   ]
  },
  {
   "cell_type": "markdown",
   "metadata": {},
   "source": [
    "# Ex 2.8\n"
   ]
  },
  {
   "cell_type": "code",
   "execution_count": 186,
   "metadata": {},
   "outputs": [
    {
     "name": "stdout",
     "output_type": "stream",
     "text": [
      "x) ((2 + 3 == 4) or (a >= 5)\n",
      "y) lst[1] * -3 < -10 == 0\n",
      "z) (lst[1] * -3 < -10) in [0, True])\n",
      "a) 2 * 3**2\n",
      "b) 4 / 2 in [1, 2, 3]\n"
     ]
    }
   ],
   "source": [
    "print ('x)','((2 + 3 == 4) or (a >= 5)')\n",
    "print ('y)','lst[1] * -3 < -10 == 0')\n",
    "print ('z)','(lst[1] * -3 < -10) in [0, True])')\n",
    "print ('a)','2 * 3**2')\n",
    "print ('b)','4 / 2 in [1, 2, 3]')\n",
    "\n",
    "\n",
    "\n"
   ]
  },
  {
   "cell_type": "markdown",
   "metadata": {},
   "source": [
    "# Ex 2.9"
   ]
  },
  {
   "cell_type": "code",
   "execution_count": 187,
   "metadata": {},
   "outputs": [
    {
     "name": "stdout",
     "output_type": "stream",
     "text": [
      "x) 0 ,Which is int value\n",
      "y) 18.0 ,Which is float\n",
      "z) 2 ,Which is integer\n",
      "a) 2 ,Which is bool value\n"
     ]
    }
   ],
   "source": [
    "print ('x)',False + False,\",Which is int value\")\n",
    "print ('y)',2 * 3**2.0,\",Which is float\")\n",
    "print ('z)',4 // 2 + 4 % 2,\",Which is integer\")\n",
    "print ('a)',4 // 2 + 4 % 2,\",Which is bool value\")"
   ]
  },
  {
   "cell_type": "markdown",
   "metadata": {},
   "source": [
    "# Ex 2.10"
   ]
  },
  {
   "cell_type": "code",
   "execution_count": 1,
   "metadata": {
    "scrolled": true
   },
   "outputs": [
    {
     "name": "stdout",
     "output_type": "stream",
     "text": [
      "Input lengths of Right triangle sides:\n",
      "a: 2\n",
      "b: 3\n",
      "The length of the hypotenuse is:  3.605551275463989 meter\n",
      "\n",
      "Enter the value of r: 5\n",
      "The Value of the expression that evaluates whether the length of the above hypotenuse is 5:  78.53981633974483 m.sq\n",
      "\n",
      "Input the radius of the circle : 6\n",
      "The area of the circle with radius 6.0 is: 113.09733552923255 m.sq\n",
      "\n",
      "Enter the value of x cordinate point is : 8\n",
      "Enter the value of y cordinate point is : 9\n",
      "True\n"
     ]
    }
   ],
   "source": [
    "# Question No 2: Write Python expressions corresponding to the following:\n",
    "\n",
    "# Part(a) The length of the hypotenuse in a right triangle whose other two sides have lengths a and b \n",
    "\n",
    "from math import sqrt\n",
    "print(\"Input lengths of Right triangle sides:\")\n",
    "a = float(input(\"a: \"))\n",
    "b = float(input(\"b: \"))\n",
    "\n",
    "c = sqrt(a**2 + b**2)\n",
    "print(\"The length of the hypotenuse is: \", c ,'meter')\n",
    "print()\n",
    "\n",
    "# Part (b)  The value of the expression that evaluates whether the length of the above hypotenuse is 5 \n",
    "\n",
    "from math import pi\n",
    "r = int(input(\"Enter the value of r: \"))\n",
    "area = (pi)*(r**2)\n",
    "print (\"The Value of the expression that evaluates whether the length of the above hypotenuse is 5: \",area ,'m.sq')\n",
    "print()\n",
    "\n",
    "# Part (c)   The area of a disk of radius a\n",
    "\n",
    "from math import pi\n",
    "r = float(input (\"Input the radius of the circle : \"))\n",
    "print (\"The area of the circle with radius \" + str(r) + \" is: \" + str(pi * r**2) ,'m.sq')\n",
    "print()\n",
    "\n",
    "# Part(d) The value of the Boolean expression that checks whether a point with coordinates\n",
    "# x andyisinsideacirclewithcenter (a,b) and radius r\n",
    "\n",
    "r = 15\n",
    "a = 0\n",
    "b = 0\n",
    "x = int(input(\"Enter the value of x cordinate point is : \"))\n",
    "y = int(input(\"Enter the value of y cordinate point is : \"))\n",
    "formula = (x-a)**2+(y-0)**2\n",
    "print(bool(formula<r**2))\n",
    "\n"
   ]
  },
  {
   "cell_type": "markdown",
   "metadata": {},
   "source": [
    "# Ex 2.11"
   ]
  },
  {
   "cell_type": "code",
   "execution_count": 19,
   "metadata": {
    "scrolled": true
   },
   "outputs": [
    {
     "name": "stdout",
     "output_type": "stream",
     "text": [
      "a) -28\n",
      "b) 10.651685393258427\n",
      "c) 9.5367431640625e-07\n",
      "d) 71\n",
      "e) 25\n"
     ]
    }
   ],
   "source": [
    "# part (a)\n",
    "lst =[-1,-2,-3,-4,-5,-6,-7]\n",
    "# part (b)\n",
    "print('a)',sum(lst))\n",
    "# part (c)\n",
    "print('b)',((17*9)+(24*10)+(21*11)+(27*12))/(17+24+21+27))\n",
    "# part (d)\n",
    "print('c)',2**(-20))\n",
    "#part (e)\n",
    "print('d)',4356//61)\n",
    "#part (f)\n",
    "print('e)',4356%61)\n"
   ]
  },
  {
   "cell_type": "markdown",
   "metadata": {},
   "source": [
    "# Ex 2.12"
   ]
  },
  {
   "cell_type": "code",
   "execution_count": 34,
   "metadata": {},
   "outputs": [
    {
     "name": "stdout",
     "output_type": "stream",
     "text": [
      "a) -+\n",
      "b) -+-\n",
      "c) +--\n",
      "d) +--+--\n",
      "e) +--+--+--+--+--+--+--+--+--+--+\n",
      "f) +-+++--+-+++--+-+++--+-+++--+-+++--\n"
     ]
    }
   ],
   "source": [
    "s1 = '-'\n",
    "s2 = '+'\n",
    "print('a)',s1+s2)\n",
    "print('b)',s1+s2+s1)\n",
    "print('c)',s2+(s1*2))\n",
    "print('d)',(s2+(s1*2))*2)\n",
    "print('e)',(s2+(s1*2))*10+s2)\n",
    "print('f)',((s2+s1)+(s2*3)+(s1*2))*5)\n"
   ]
  },
  {
   "cell_type": "markdown",
   "metadata": {},
   "source": [
    "# Ex 2.13\n"
   ]
  },
  {
   "cell_type": "code",
   "execution_count": 40,
   "metadata": {},
   "outputs": [
    {
     "name": "stdout",
     "output_type": "stream",
     "text": [
      "a\n",
      "c\n",
      "z\n",
      "x\n",
      "q\n"
     ]
    }
   ],
   "source": [
    "s = 'abcdefghijklmnopqrstuvwxyz'\n",
    "print(s[0])\n",
    "print(s[2])\n",
    "print(s[-1])\n",
    "print(s[-3])\n",
    "print(s[16])\n"
   ]
  },
  {
   "cell_type": "markdown",
   "metadata": {},
   "source": [
    "# Ex 2.14\n"
   ]
  },
  {
   "cell_type": "code",
   "execution_count": 41,
   "metadata": {
    "scrolled": true
   },
   "outputs": [
    {
     "name": "stdout",
     "output_type": "stream",
     "text": [
      "a) False\n",
      "b) True\n",
      "c) False\n",
      "d) False\n",
      "e) True\n",
      "f) False\n",
      "g) False\n"
     ]
    }
   ],
   "source": [
    "#part (a)\n",
    "print('a)',s[0]=='g')\n",
    "# part(b)\n",
    "print('b)',s[6]=='g')\n",
    "# part (c)\n",
    "print('c)',s[0]=='g' and s[1]=='a')\n",
    "# part (d)\n",
    "print('d)',s[-2]=='x')\n",
    "#part (e)\n",
    "print('e)',s[3]=='d')\n",
    "# part (f)\n",
    "print('f)',s[1]==s[-1])\n",
    "#part (g)\n",
    "print('g)',(s[-4]+s[-3]+s[-2]+s[-1])=='tion')"
   ]
  },
  {
   "cell_type": "markdown",
   "metadata": {},
   "source": [
    "# Ex 2.15"
   ]
  },
  {
   "cell_type": "code",
   "execution_count": 36,
   "metadata": {},
   "outputs": [
    {
     "name": "stdout",
     "output_type": "stream",
     "text": [
      "not found\n",
      "\n",
      "Yes they are equal\n",
      "\n",
      "anachronistically\n",
      "\n",
      "This is how dictionary have these words ['misinterpretaiton', 'misrepresentation']\n",
      "\n"
     ]
    }
   ],
   "source": [
    " # Coreesponding to these statement\n",
    "\n",
    "# part (A)\n",
    "chars=\"floccinaucinihilipilification\"\n",
    "find=\"e\"\n",
    "if find in chars:\n",
    "              print(\"found\")\n",
    "else:\n",
    "              print(\"not found\")\n",
    "print()\n",
    "\n",
    "# part(b)\n",
    "summ=len(\"counterrevolution\")\n",
    "first=len(\"counter\")\n",
    "second=len(\"resolution\")\n",
    "tsum=first+second\n",
    "\n",
    "if summ == tsum:\n",
    "                print(\"Yes they are equal\")\n",
    "else:\n",
    "                print(\"Not equal\")  \n",
    "print()\n",
    "\n",
    "# part (c)\n",
    "first=len(\"anachronistically\")\n",
    "second=len(\"counterintuitive\")\n",
    "\n",
    "if first > second:\n",
    "    print(\"anachronistically\")\n",
    "else:\n",
    "        print(\"counterintuitive\")\n",
    "print()\n",
    "\n",
    "# part (d)\n",
    "a= \"misrepresentation\"\n",
    "b= \"misinterpretaiton\" \n",
    "lst = [b , a]\n",
    "lst.sort ()\n",
    "print (\"This is how dictionary have these words\" , lst)\n",
    "print()\n",
    "        "
   ]
  },
  {
   "cell_type": "markdown",
   "metadata": {},
   "source": [
    "# Ex 2.16\n",
    "\n"
   ]
  },
  {
   "cell_type": "code",
   "execution_count": 1,
   "metadata": {},
   "outputs": [
    {
     "name": "stdout",
     "output_type": "stream",
     "text": [
      "a) True\n",
      "b) False\n",
      "c) True\n"
     ]
    }
   ],
   "source": [
    "a=6\n",
    "b=7\n",
    "c=(a+b)/2\n",
    "inventory=['papers','staples','pencils']\n",
    "fullname='John Fitzgerald Kennedy'\n",
    "print('a)',17+(-9)<10)\n",
    "print('b)',len(inventory)-len(fullname)>5)\n",
    "print('c)',c<=24)"
   ]
  },
  {
   "cell_type": "markdown",
   "metadata": {},
   "source": [
    "# Ex 2.17"
   ]
  },
  {
   "cell_type": "code",
   "execution_count": 23,
   "metadata": {},
   "outputs": [
    {
     "name": "stdout",
     "output_type": "stream",
     "text": [
      "a) True\n",
      "b) False\n",
      "b) False\n",
      "d) True\n",
      "e) False\n",
      "f) False\n"
     ]
    }
   ],
   "source": [
    "a=6\n",
    "b=7\n",
    "c=(a+b)/2\n",
    "inventory=['papers','staples','pencils']\n",
    "first='John ' \n",
    "middle='Fitzgerald ' \n",
    "last='Kennedy '\n",
    "fullname='John Fitzgerald Kennedy'\n",
    "print('a)',17+(-9)<10)\n",
    "print('b)',len(inventory)-len(fullname)>5)\n",
    "print('b)',c>=24)\n",
    "print('d)',6.75 >a and 6.75<b)\n",
    "print('e)',len(middle)>len(first) and len(middle)<len(last))\n",
    "print('f)',len(inventory)==0 or len(inventory)>10)"
   ]
  },
  {
   "cell_type": "markdown",
   "metadata": {},
   "source": [
    "# Ex 2.18"
   ]
  },
  {
   "cell_type": "code",
   "execution_count": 22,
   "metadata": {},
   "outputs": [
    {
     "name": "stdout",
     "output_type": "stream",
     "text": [
      "a) ['rose', 'bougainvilea', 'yucca', 'marlgold', 'daylilly', 'lilly of the valley']\n",
      "\n",
      "b) False\n",
      "\n",
      "c) ['rose', 'bougainvilea', 'yucca']\n",
      "\n",
      "d) lilly of the valley\n"
     ]
    }
   ],
   "source": [
    "flower = ['rose', 'bougainvilea','yucca', 'marlgold','daylilly','lilly of the valley']\n",
    "print('a)',flower)\n",
    "print()\n",
    "print('b)','potato' in flower)\n",
    "print()\n",
    "thorny = flower[:3]\n",
    "print('c)', thorny) \n",
    "print()\n",
    "poisnous = flower[-1]\n",
    "print('d)', poisnous) \n"
   ]
  },
  {
   "cell_type": "markdown",
   "metadata": {},
   "source": [
    "# Ex 2.19"
   ]
  },
  {
   "cell_type": "code",
   "execution_count": 29,
   "metadata": {},
   "outputs": [
    {
     "name": "stdout",
     "output_type": "stream",
     "text": [
      "a) 5\n",
      "b) 6\n",
      "c) 45.45454545454545 %\n",
      "d) ['N', 'N', 'N', 'N', 'N', 'N', 'Y', 'Y', 'Y', 'Y', 'Y']\n",
      "a) at 6 Y will occur for the first time.\n"
     ]
    }
   ],
   "source": [
    "answers = ['Y', 'N', 'N', 'Y', 'N', 'Y', 'Y', 'Y', 'N', 'N', 'N']\n",
    "numYes=answers.count('Y')\n",
    "print('a)',numYes)\n",
    "print('b)',answers.count('N'))\n",
    "percentYes=(numYes/len(answers)*100)\n",
    "print('c)',percentYes,'%')\n",
    "answers.sort()\n",
    "print('d)',answers)\n",
    "f=answers.count('N')\n",
    "print('a) at',f,answers[f],'will occur for the first time.')"
   ]
  },
  {
   "cell_type": "markdown",
   "metadata": {},
   "source": [
    "# Ex 2.20"
   ]
  },
  {
   "cell_type": "code",
   "execution_count": 2,
   "metadata": {},
   "outputs": [
    {
     "name": "stdout",
     "output_type": "stream",
     "text": [
      "top\n"
     ]
    }
   ],
   "source": [
    "s = 'pot'\n",
    "print(s[::-1])"
   ]
  },
  {
   "cell_type": "markdown",
   "metadata": {},
   "source": [
    "# Ex 2.21"
   ]
  },
  {
   "cell_type": "code",
   "execution_count": 2,
   "metadata": {},
   "outputs": [
    {
     "name": "stdout",
     "output_type": "stream",
     "text": [
      "MS\n"
     ]
    }
   ],
   "source": [
    "s = 'Mujeeb'\n",
    "z = 'Sheikh'\n",
    "print(s[0]+z[0])"
   ]
  },
  {
   "cell_type": "markdown",
   "metadata": {},
   "source": [
    "# Ex 2.22"
   ]
  },
  {
   "cell_type": "code",
   "execution_count": 4,
   "metadata": {
    "scrolled": true
   },
   "outputs": [
    {
     "name": "stdout",
     "output_type": "stream",
     "text": [
      "14\n"
     ]
    }
   ],
   "source": [
    "lst = [3, 7, -2, 12]\n",
    "print(max(lst)-min(lst))"
   ]
  },
  {
   "cell_type": "markdown",
   "metadata": {},
   "source": [
    "# Ex 2.23"
   ]
  },
  {
   "cell_type": "code",
   "execution_count": 24,
   "metadata": {},
   "outputs": [
    {
     "name": "stdout",
     "output_type": "stream",
     "text": [
      "['jan', 'feb', 'march', 'apr', 'may']\n",
      "\n",
      "['jan', 'feb', 'march', 'may', 'Jan']\n",
      "\n",
      "['may', 'march', 'jan', 'feb']\n",
      "\n",
      "['feb', 'jan', 'march', 'may']\n",
      "\n",
      "['jan', 'march', 'may']\n"
     ]
    }
   ],
   "source": [
    "# Inserting the months \n",
    "monthsl = [\"jan\", \"feb\", \"march\", \"may\"]\n",
    "monthst = [\"jan\", \"feb\", \"march\", \"may\"]\n",
    "monthsl.insert (3, \"apr\")\n",
    "print (monthsl)\n",
    "print()\n",
    "monthsl = [\"jan\", \"feb\", \"march\", \"may\"]\n",
    "monthst = [\"jan\", \"feb\", \"march\", \"may\"]\n",
    "monthsl.append ( \"Jan\")\n",
    "print (monthsl)\n",
    "print()\n",
    "monthsl = ['jan', 'feb', 'march', 'may']\n",
    "monthsl.sort (reverse = True)\n",
    "print (monthsl)\n",
    "print()\n",
    "monthsl = ['jan', 'feb', 'march', 'may']\n",
    "monthsl.sort (reverse = False)\n",
    "print (monthsl)\n",
    "print()\n",
    "monthsl = ['jan', 'feb', 'march', 'may']\n",
    "monthsl.remove (\"feb\")\n",
    "print (monthsl)"
   ]
  },
  {
   "cell_type": "markdown",
   "metadata": {},
   "source": [
    "# Ex 2.24"
   ]
  },
  {
   "cell_type": "code",
   "execution_count": 27,
   "metadata": {},
   "outputs": [
    {
     "name": "stdout",
     "output_type": "stream",
     "text": [
      "[4, 4, 2, 2, 1]\n"
     ]
    }
   ],
   "source": [
    "grades = ['B','B','F','C','B','A','A','D','C','D','A','A','B']\n",
    "count = [grades.count('A'),grades.count('B'),grades.count('C'),grades.count('D'),grades.count('F')]\n",
    "print(count)\n",
    "         "
   ]
  },
  {
   "cell_type": "markdown",
   "metadata": {},
   "source": [
    "# Ex 2.25\n"
   ]
  },
  {
   "cell_type": "code",
   "execution_count": 37,
   "metadata": {
    "scrolled": true
   },
   "outputs": [
    {
     "name": "stdout",
     "output_type": "stream",
     "text": [
      "[4, 4, 2, 2, 1]\n"
     ]
    }
   ],
   "source": [
    "\n",
    "grades = ('B','B','F','C','B','A','A','D','C','D','A','A','B')\n",
    "count = [grades.count('A'),grades.count('B'),grades.count('C'),grades.count('D'),grades.count('F')]\n",
    "print(count)\n"
   ]
  },
  {
   "cell_type": "markdown",
   "metadata": {},
   "source": [
    "# Ex 2.26"
   ]
  },
  {
   "cell_type": "code",
   "execution_count": 38,
   "metadata": {},
   "outputs": [
    {
     "name": "stdout",
     "output_type": "stream",
     "text": [
      "True\n",
      "False\n",
      "True\n",
      "False\n"
     ]
    }
   ],
   "source": [
    "\n",
    "\n",
    "from math import *\n",
    "r=10\n",
    "X=0\n",
    "Y=0\n",
    "a=sqrt((0-0)**2+(0-0)**2)\n",
    "b=sqrt((10-0)**2+(10-0)**2)\n",
    "c=sqrt((6-0)**2+(6-0)**2)\n",
    "d=sqrt((7-0)**2+(8-0)**2)\n",
    "print(a<r)\n",
    "print(b<r)\n",
    "print(c<r)\n",
    "print(d<r)"
   ]
  },
  {
   "cell_type": "markdown",
   "metadata": {},
   "source": [
    "# Ex 2.27\n"
   ]
  },
  {
   "cell_type": "code",
   "execution_count": 3,
   "metadata": {},
   "outputs": [
    {
     "name": "stdout",
     "output_type": "stream",
     "text": [
      "Please enter the height of the ladder 2\n",
      "Please enter the angle of the ladder in degrees 6\n",
      "The length of the ladder must be  19.13354446701125 m\n",
      "\n",
      "Please enter the height of the ladder 7\n",
      "Please enter the angle of the ladder in degrees 8\n",
      "The length of the ladder must be  50.297075740294034 m\n",
      "\n",
      "Please enter the length of the ladder: 12\n",
      "Please enter the angle of the ladder in degrees: 64\n",
      "The height of the ladder must be  10.785528555590005 m\n",
      "\n",
      "Please enter the height of the ladder 20\n",
      "Please enter the angle of the ladder in degrees 5\n",
      "The length of the ladder must be  229.47426491339712 m\n"
     ]
    }
   ],
   "source": [
    "# part (a)\n",
    "\n",
    "from math import *\n",
    "def main():\n",
    "    height = eval(input(\"Please enter the height of the ladder \"))\n",
    "    deg = eval(input(\"Please enter the angle of the ladder in degrees \"))\n",
    "    rad = (pi/180) * deg\n",
    "    leng = height/(sin(rad))\n",
    "    print(\"The length of the ladder must be \", leng,'m')\n",
    "main()\n",
    "print()\n",
    "\n",
    "# part (b)\n",
    "\n",
    "def main():\n",
    "    height = eval(input(\"Please enter the height of the ladder \"))\n",
    "    deg = eval(input(\"Please enter the angle of the ladder in degrees \"))\n",
    "    rad = (pi/180) * deg\n",
    "    leng = height/(sin(rad))\n",
    "    print(\"The length of the ladder must be \", leng,'m')\n",
    "main()\n",
    "print()\n",
    "\n",
    "# part(c)\n",
    "\n",
    "length_feet = int(input(\"Please enter the length of the ladder: \"))\n",
    "deg_rad = int(input(\"Please enter the angle of the ladder in degrees: \"))\n",
    "rad = (pi/180) * deg_rad\n",
    "height = length_feet * (sin(rad))\n",
    "print(\"The height of the ladder must be \", height,'m')\n",
    "print()\n",
    "\n",
    "#part(d)\n",
    "\n",
    "def main():\n",
    "    height = eval(input(\"Please enter the height of the ladder \"))\n",
    "    deg = eval(input(\"Please enter the angle of the ladder in degrees \"))\n",
    "    rad = (pi/180) * deg\n",
    "    leng = height/(sin(rad))\n",
    "    print(\"The length of the ladder must be \", leng,'m')\n",
    "main()\n"
   ]
  },
  {
   "cell_type": "markdown",
   "metadata": {},
   "source": [
    "# Ex 2.28\n"
   ]
  },
  {
   "cell_type": "code",
   "execution_count": 43,
   "metadata": {},
   "outputs": [
    {
     "name": "stdout",
     "output_type": "stream",
     "text": [
      "3\n",
      "\n",
      "3\n",
      "\n",
      "[5, 8, 4, 6]\n",
      "\n",
      "[8, 9, 12, 7]\n"
     ]
    }
   ],
   "source": [
    "# part(a)\n",
    "lst = [2, 4, 6, 9, 8, 10, 5]\n",
    "b = lst.index (9)\n",
    "print (b)\n",
    "print()\n",
    "\n",
    "#part(b)\n",
    "lst = [1, 2, 3, 8, 5]\n",
    "b = lst [2]\n",
    "print(b)\n",
    "print()\n",
    "\n",
    "#part(c)\n",
    "lst = [6, 4, 8, 5]\n",
    "b = lst[::-1]\n",
    "print(b)\n",
    "print()\n",
    "\n",
    "#part(d)\n",
    "lst = [7, 8, 9, 12]\n",
    "lst.remove (7)\n",
    "lst.append (7)\n",
    "print (lst)"
   ]
  },
  {
   "cell_type": "markdown",
   "metadata": {},
   "source": [
    "# Ex 2.29"
   ]
  },
  {
   "cell_type": "code",
   "execution_count": 45,
   "metadata": {},
   "outputs": [
    {
     "name": "stdout",
     "output_type": "stream",
     "text": [
      "a) True\n",
      "b) True\n",
      "c) True\n"
     ]
    }
   ],
   "source": [
    "print('a)',0 <= 1 or 1 == 2)\n",
    "print('b)',2 + 3 >= 4 or 5 >= 7)\n",
    "print('c)',1 > -1 or 3 > 4)"
   ]
  },
  {
   "cell_type": "markdown",
   "metadata": {},
   "source": [
    "# Ex 2.30"
   ]
  },
  {
   "cell_type": "code",
   "execution_count": 4,
   "metadata": {},
   "outputs": [
    {
     "name": "stdout",
     "output_type": "stream",
     "text": [
      "['M', 'u', 'j', 'e', 'e', 'b', ' ', 'S', 'h', 'e', 'i', 'k', 'h']\n"
     ]
    }
   ],
   "source": [
    "#2.30\n",
    "s='Mujeeb Sheikh'\n",
    "s=list(s)\n",
    "print(s)"
   ]
  },
  {
   "cell_type": "markdown",
   "metadata": {},
   "source": [
    "# Ex 2.31"
   ]
  },
  {
   "cell_type": "code",
   "execution_count": 6,
   "metadata": {},
   "outputs": [
    {
     "data": {
      "text/plain": [
       "[2, 3, 4, 5, 6]"
      ]
     },
     "execution_count": 6,
     "metadata": {},
     "output_type": "execute_result"
    }
   ],
   "source": [
    "lst = [2, 3, 4]\n",
    "lst.extend([5, 6])\n",
    "lst\n",
    "\n",
    "\n",
    "\n"
   ]
  },
  {
   "cell_type": "code",
   "execution_count": 13,
   "metadata": {},
   "outputs": [
    {
     "data": {
      "text/plain": [
       "[2, 3, 4, 5, 6]"
      ]
     },
     "execution_count": 13,
     "metadata": {},
     "output_type": "execute_result"
    }
   ],
   "source": [
    "lst2 = lst.copy()\n",
    "lst"
   ]
  },
  {
   "cell_type": "code",
   "execution_count": 14,
   "metadata": {},
   "outputs": [
    {
     "data": {
      "text/plain": [
       "[]"
      ]
     },
     "execution_count": 14,
     "metadata": {},
     "output_type": "execute_result"
    }
   ],
   "source": [
    "lst.clear()\n",
    "lst"
   ]
  },
  {
   "cell_type": "code",
   "execution_count": 15,
   "metadata": {},
   "outputs": [
    {
     "data": {
      "text/plain": [
       "[2, 3, 4, 5, 6]"
      ]
     },
     "execution_count": 15,
     "metadata": {},
     "output_type": "execute_result"
    }
   ],
   "source": [
    "lst2\n",
    "[2, 3, 4, 5, 6]"
   ]
  }
 ],
 "metadata": {
  "kernelspec": {
   "display_name": "Python 3",
   "language": "python",
   "name": "python3"
  },
  "language_info": {
   "codemirror_mode": {
    "name": "ipython",
    "version": 3
   },
   "file_extension": ".py",
   "mimetype": "text/x-python",
   "name": "python",
   "nbconvert_exporter": "python",
   "pygments_lexer": "ipython3",
   "version": "3.7.3"
  }
 },
 "nbformat": 4,
 "nbformat_minor": 2
}
