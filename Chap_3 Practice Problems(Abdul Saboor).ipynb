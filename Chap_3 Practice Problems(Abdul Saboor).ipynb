{
 "cells": [
  {
   "cell_type": "code",
   "execution_count": 3,
   "metadata": {},
   "outputs": [
    {
     "name": "stdout",
     "output_type": "stream",
     "text": [
      "Login: saboor\n",
      "User unknown.\n",
      "Done.\n"
     ]
    }
   ],
   "source": [
    "#3.4\n",
    "users = ['joe', 'sue', 'hani', 'sophie']\n",
    "id = input('Login: ')\n",
    "if id in users:\n",
    "    print('You are in!')\n",
    "else:\n",
    "    print('User unknown.')\n",
    "print('Done.')"
   ]
  },
  {
   "cell_type": "code",
   "execution_count": 8,
   "metadata": {},
   "outputs": [
    {
     "name": "stdout",
     "output_type": "stream",
     "text": [
      "Mark\n",
      "Boby\n"
     ]
    }
   ],
   "source": [
    "#3.5\n",
    "wordList=[\"Saboor\",\"Mujeeb\",\"Mark\",\"abdullah\",\"Boby\",]\n",
    "for word in wordList:\n",
    "    if len(word) == 4:\n",
    "        print(word)"
   ]
  },
  {
   "cell_type": "code",
   "execution_count": 10,
   "metadata": {},
   "outputs": [
    {
     "name": "stdout",
     "output_type": "stream",
     "text": [
      "0\n",
      "1\n",
      "2\n",
      "3\n",
      "4\n",
      "5\n",
      "6\n",
      "7\n",
      "8\n",
      "9\n",
      "0\n",
      "1\n"
     ]
    }
   ],
   "source": [
    "#3.6\n",
    "for i in range(10):\n",
    "    print(i)\n",
    "\n",
    "for i in range(2):\n",
    "    print(i)"
   ]
  },
  {
   "cell_type": "code",
   "execution_count": 12,
   "metadata": {},
   "outputs": [
    {
     "name": "stdout",
     "output_type": "stream",
     "text": [
      "3\n",
      "4\n",
      "5\n",
      "6\n",
      "7\n",
      "8\n",
      "9\n",
      "10\n",
      "11\n",
      "12\n",
      "0\n",
      "2\n",
      "4\n",
      "6\n",
      "8\n",
      "0\n",
      "3\n",
      "6\n",
      "9\n",
      "12\n",
      "15\n",
      "18\n",
      "21\n",
      "3\n",
      "8\n"
     ]
    }
   ],
   "source": [
    "#3.7\n",
    "for i in range(3, 13):\n",
    "    print(i)\n",
    "for i in range(0, 10, 2):\n",
    "    print(i)\n",
    "for i in range(0, 24, 3):\n",
    "    print(i)\n",
    "for i in range(3,12, 5):\n",
    "    print(i)"
   ]
  },
  {
   "cell_type": "code",
   "execution_count": 20,
   "metadata": {},
   "outputs": [
    {
     "name": "stdout",
     "output_type": "stream",
     "text": [
      "Periperimeter is:  18.84955592153876 cm\n"
     ]
    }
   ],
   "source": [
    "#3.8\n",
    "from math import pi\n",
    "def perimeter(radius):\n",
    "    return (2 * pi * radius)\n",
    "print(\"Periperimeter is: \",perimeter(3),\"cm\")"
   ]
  },
  {
   "cell_type": "code",
   "execution_count": 22,
   "metadata": {},
   "outputs": [
    {
     "name": "stdout",
     "output_type": "stream",
     "text": [
      "The average is:  6.0\n"
     ]
    }
   ],
   "source": [
    "#3.9\n",
    "def average(x, y):\n",
    "    return ((x + y) / 2)\n",
    "print(\"The average is: \",average(4,8))"
   ]
  },
  {
   "cell_type": "code",
   "execution_count": 106,
   "metadata": {},
   "outputs": [
    {
     "data": {
      "text/plain": [
       "True"
      ]
     },
     "execution_count": 106,
     "metadata": {},
     "output_type": "execute_result"
    }
   ],
   "source": [
    "#3.10\n",
    "def noVowel(s):\n",
    "    for c in s:\n",
    "        if c in 'aeiouAEIOU':\n",
    "            return(False)\n",
    "        else:\n",
    "            return(True)\n",
    "noVowel('xyz')\n",
    "\n"
   ]
  },
  {
   "cell_type": "code",
   "execution_count": 92,
   "metadata": {},
   "outputs": [
    {
     "data": {
      "text/plain": [
       "True"
      ]
     },
     "execution_count": 92,
     "metadata": {},
     "output_type": "execute_result"
    }
   ],
   "source": [
    "#3.11\n",
    "def allEven():\n",
    "    numList=(2,4,6,8)\n",
    "    for num in numList:\n",
    "        if num%2 != 0:\n",
    "            return(False)\n",
    "        else:\n",
    "            return(True)   \n",
    "allEven()"
   ]
  },
  {
   "cell_type": "code",
   "execution_count": 96,
   "metadata": {},
   "outputs": [
    {
     "name": "stdout",
     "output_type": "stream",
     "text": [
      "-1\n",
      "-2\n"
     ]
    }
   ],
   "source": [
    "#3.12\n",
    "def negatives():\n",
    "    lst=[1,-1,-2,3,5]\n",
    "    for i in lst:\n",
    "        if i < 0:\n",
    "            print(i)\n",
    "negatives()            "
   ]
  },
  {
   "cell_type": "code",
   "execution_count": 114,
   "metadata": {},
   "outputs": [
    {
     "name": "stdout",
     "output_type": "stream",
     "text": [
      "['Sarah', 'Eleanor', 'Clare', 'Ava']\n"
     ]
    }
   ],
   "source": [
    "#3.15\n",
    "team = ['Ava', 'Eleanor', 'Clare', 'Sarah']\n",
    "team[0], team[-1] = team[-1], team[0]\n",
    "print(team)\n",
    "\n",
    "\n"
   ]
  },
  {
   "cell_type": "code",
   "execution_count": 122,
   "metadata": {},
   "outputs": [
    {
     "name": "stdout",
     "output_type": "stream",
     "text": [
      "Orignal list:  ['flour', 'sugar', 'butter', 'apples']\n",
      "Swapped list:  ['apples', 'sugar', 'butter', 'flour']\n"
     ]
    }
   ],
   "source": [
    "#3.16\n",
    "def swapFL():\n",
    "    ingredients = ['flour', 'sugar', 'butter', 'apples']\n",
    "    print(\"Orignal list: \",ingredients)\n",
    "    ingredients[0],ingredients[-1]=ingredients[-1],ingredients[0]\n",
    "    print(\"Swapped list: \",ingredients)\n",
    "swapFL()    "
   ]
  },
  {
   "cell_type": "code",
   "execution_count": 138,
   "metadata": {},
   "outputs": [
    {
     "name": "stdout",
     "output_type": "stream",
     "text": [
      "Enter the temp in fahrenheit: 60\n",
      "The temp in celsius is:  15.555555555555557\n"
     ]
    }
   ],
   "source": [
    "#3.1\n",
    "f=int(input(\"Enter the temp in fahrenheit: \"))\n",
    "celsius =5/9*(f-32)\n",
    "print(\"The temp in celsius is: \",celsius)\n"
   ]
  },
  {
   "cell_type": "code",
   "execution_count": 4,
   "metadata": {},
   "outputs": [
    {
     "name": "stdout",
     "output_type": "stream",
     "text": [
      "Enter the age: 80\n",
      "You can get your pension benefits\n",
      "Enter the name: Ruth\n",
      "One of the top 5 baseball players, ever!\n",
      "Enter the value of hit: 11\n",
      "Enter the value of sheild: 0\n",
      "You are dead...\n"
     ]
    }
   ],
   "source": [
    "#3.2\n",
    "age=int(input(\"Enter the age: \"))\n",
    "if age>62:\n",
    "    print ('You can get your pension benefits')\n",
    "\n",
    "name=str(input(\"Enter the name: \"))\n",
    "lst=['Musial', 'Aaraon', 'Williams', 'Gehrig', 'Ruth']\n",
    "if name in lst:\n",
    "    print ('One of the top 5 baseball players, ever!')\n",
    "hit=int(input(\"Enter the value of hit: \"))\n",
    "sheild=int(input(\"Enter the value of sheild: \"))\n",
    "if hit>10 and sheild==0:\n",
    "    print ('You are dead...')\n",
    "    \n"
   ]
  },
  {
   "cell_type": "code",
   "execution_count": 8,
   "metadata": {},
   "outputs": [
    {
     "name": "stdout",
     "output_type": "stream",
     "text": [
      "Could be a leap year.\n",
      "Better luck next time...\n"
     ]
    }
   ],
   "source": [
    "#3.3\n",
    "year=2018\n",
    "if year//4:\n",
    "    print('Could be a leap year.')\n",
    "else:\n",
    "    print('Definitely not a leap year.')\n",
    "\n",
    "lottery=[99]\n",
    "ticket=[23]\n",
    "if ticket==lottery:\n",
    "    print ('You won!')\n",
    "else:\n",
    "    print ('Better luck next time...')"
   ]
  },
  {
   "cell_type": "code",
   "execution_count": 10,
   "metadata": {},
   "outputs": [
    {
     "name": "stdout",
     "output_type": "stream",
     "text": [
      "Enter value of a: 2\n",
      "Enter value of b: 3\n",
      "Enter a value: 1\n",
      "7\n",
      "\n",
      "Enter word 1: hello\n"
     ]
    },
    {
     "ename": "NameError",
     "evalue": "name 'hello' is not defined",
     "output_type": "error",
     "traceback": [
      "\u001b[1;31m---------------------------------------------------------------------------\u001b[0m",
      "\u001b[1;31mNameError\u001b[0m                                 Traceback (most recent call last)",
      "\u001b[1;32m<ipython-input-10-2f3aa6e65ed5>\u001b[0m in \u001b[0;36m<module>\u001b[1;34m\u001b[0m\n\u001b[0;32m      6\u001b[0m \u001b[0mprint\u001b[0m\u001b[1;33m(\u001b[0m\u001b[0md\u001b[0m\u001b[1;33m)\u001b[0m\u001b[1;33m\u001b[0m\u001b[1;33m\u001b[0m\u001b[0m\n\u001b[0;32m      7\u001b[0m \u001b[0mprint\u001b[0m\u001b[1;33m(\u001b[0m\u001b[1;33m)\u001b[0m\u001b[1;33m\u001b[0m\u001b[1;33m\u001b[0m\u001b[0m\n\u001b[1;32m----> 8\u001b[1;33m \u001b[0mx\u001b[0m\u001b[1;33m=\u001b[0m\u001b[0meval\u001b[0m\u001b[1;33m(\u001b[0m\u001b[0minput\u001b[0m\u001b[1;33m(\u001b[0m\u001b[1;34m\"Enter word 1: \"\u001b[0m\u001b[1;33m)\u001b[0m\u001b[1;33m)\u001b[0m\u001b[1;33m\u001b[0m\u001b[1;33m\u001b[0m\u001b[0m\n\u001b[0m\u001b[0;32m      9\u001b[0m \u001b[0my\u001b[0m\u001b[1;33m=\u001b[0m\u001b[0meval\u001b[0m\u001b[1;33m(\u001b[0m\u001b[0minput\u001b[0m\u001b[1;33m(\u001b[0m\u001b[1;34m\"Enter word 2: \"\u001b[0m\u001b[1;33m)\u001b[0m\u001b[1;33m)\u001b[0m\u001b[1;33m\u001b[0m\u001b[1;33m\u001b[0m\u001b[0m\n\u001b[0;32m     10\u001b[0m \u001b[0mz\u001b[0m\u001b[1;33m=\u001b[0m\u001b[0mx\u001b[0m\u001b[1;33m+\u001b[0m\u001b[1;34m\" \"\u001b[0m\u001b[1;33m+\u001b[0m\u001b[0my\u001b[0m\u001b[1;33m\u001b[0m\u001b[1;33m\u001b[0m\u001b[0m\n",
      "\u001b[1;32m<string>\u001b[0m in \u001b[0;36m<module>\u001b[1;34m\u001b[0m\n",
      "\u001b[1;31mNameError\u001b[0m: name 'hello' is not defined"
     ]
    }
   ],
   "source": [
    "#3.17\n",
    "a=eval(input(\"Enter value of a: \"))\n",
    "b=eval(input(\"Enter value of b: \"))\n",
    "c=eval(input(\"Enter a value: \"))\n",
    "d=a*b+c\n",
    "print(d)\n",
    "print()\n",
    "x=eval(input(\"Enter word 1: \"))\n",
    "y=eval(input(\"Enter word 2: \"))\n",
    "z=x+\" \"+y\n",
    "print(z)\n",
    "#Because Hello is a string\n",
    "print()\n"
   ]
  },
  {
   "cell_type": "code",
   "execution_count": 18,
   "metadata": {},
   "outputs": [
    {
     "name": "stdout",
     "output_type": "stream",
     "text": [
      "2\n",
      "5\n"
     ]
    }
   ],
   "source": [
    "a='ASCII'\n",
    "b=a.count('I')\n",
    "print(b)\n",
    "#We cant use eval function for a string\n",
    "\n",
    "x=eval('5')\n",
    "print(x)"
   ]
  },
  {
   "cell_type": "code",
   "execution_count": 45,
   "metadata": {},
   "outputs": [
    {
     "name": "stdout",
     "output_type": "stream",
     "text": [
      "a) OK\n",
      "d) OK\n"
     ]
    }
   ],
   "source": [
    "#3.18\n",
    "a, b, c = 3, 4, 5\n",
    "if a<b:\n",
    "    print(\"a) OK\")\n",
    "if c<b:\n",
    "    print(\"b) OK\") \n",
    "if a+b==c:\n",
    "    print(\"c) OK\")\n",
    "if a**2+b**2==c**2:\n",
    "    print(\"d) OK\")    "
   ]
  },
  {
   "cell_type": "code",
   "execution_count": 46,
   "metadata": {},
   "outputs": [
    {
     "name": "stdout",
     "output_type": "stream",
     "text": [
      "a) OK\n",
      "b) NOT OK\n",
      "c) NOT OK\n",
      "d) OK\n"
     ]
    }
   ],
   "source": [
    "#3.19\n",
    "a, b, c = 3, 4, 5\n",
    "if a<b:\n",
    "    print(\"a) OK\")\n",
    "else:\n",
    "    print(\"a) NOT OK\")\n",
    "if c<b:\n",
    "    print(\"b) OK\") \n",
    "else:\n",
    "    print(\"b) NOT OK\")\n",
    "if a+b==c:\n",
    "    print(\"c) OK\")\n",
    "else:\n",
    "    print(\"c) NOT OK\")\n",
    "if a**2+b**2==c**2:\n",
    "    print(\"d) OK\") \n",
    "else:\n",
    "    print(\"d) NOT OK\")"
   ]
  },
  {
   "cell_type": "code",
   "execution_count": 42,
   "metadata": {},
   "outputs": [
    {
     "name": "stdout",
     "output_type": "stream",
     "text": [
      "Jan\n",
      "Feb\n",
      "Mar\n"
     ]
    }
   ],
   "source": [
    "#3.20\n",
    "lst=['January', 'February', 'March']\n",
    "for i in lst:\n",
    "    print(i[:3])"
   ]
  },
  {
   "cell_type": "code",
   "execution_count": 51,
   "metadata": {},
   "outputs": [
    {
     "name": "stdout",
     "output_type": "stream",
     "text": [
      "2\n",
      "4\n",
      "6\n",
      "8\n"
     ]
    }
   ],
   "source": [
    "#3.21\n",
    "lst=[2, 3, 4, 5, 6, 7, 8, 9]\n",
    "for i in lst:\n",
    "    if i%2==0:\n",
    "        print(i)\n",
    "        "
   ]
  },
  {
   "cell_type": "code",
   "execution_count": 57,
   "metadata": {},
   "outputs": [
    {
     "name": "stdout",
     "output_type": "stream",
     "text": [
      "4\n",
      "8\n"
     ]
    }
   ],
   "source": [
    "#3.22\n",
    "lst=[2, 3, 4, 5, 6, 7, 8, 9]\n",
    "for i in lst:\n",
    "    if i**2%8==0:\n",
    "        print(i)"
   ]
  },
  {
   "cell_type": "code",
   "execution_count": 84,
   "metadata": {},
   "outputs": [
    {
     "name": "stdout",
     "output_type": "stream",
     "text": [
      "0 1 \n",
      "0 \n",
      "3 4 5 6 \n",
      "1 \n",
      "0 3 \n",
      "5 9 13 17 21 \n"
     ]
    }
   ],
   "source": [
    "#3.23\n",
    "for i in range(2):\n",
    "    print(i, end=\" \")\n",
    "print()    \n",
    "for i in range(1):\n",
    "    print(i, end=\" \")   \n",
    "print() \n",
    "for i in range(3,7):\n",
    "    print(i, end=\" \")   \n",
    "print()\n",
    "for i in range(1,2):\n",
    "    print(i, end=\" \")   \n",
    "print()\n",
    "for i in range(0,4,3):\n",
    "    print(i, end=\" \")   \n",
    "print()\n",
    "for i in range(5,22,4):\n",
    "    print(i, end=\" \")  \n",
    "print()"
   ]
  },
  {
   "cell_type": "code",
   "execution_count": 19,
   "metadata": {},
   "outputs": [
    {
     "name": "stdout",
     "output_type": "stream",
     "text": [
      "Enter the words: mi6 secret isi gavin\n",
      "mi6\n",
      "isi\n",
      "gavin\n"
     ]
    }
   ],
   "source": [
    "#3.24\n",
    "\n",
    "wordlst=input(\"Enter the words: \").split()\n",
    "for i in wordlst:\n",
    "    if i!='secret':\n",
    "        print(i)\n",
    "\n",
    "        \n",
    "        "
   ]
  },
  {
   "cell_type": "code",
   "execution_count": 21,
   "metadata": {},
   "outputs": [
    {
     "name": "stdout",
     "output_type": "stream",
     "text": [
      "Enter names: Ellie Steve Sam Owen Gavin\n",
      "Ellie\n",
      "Gavin\n"
     ]
    }
   ],
   "source": [
    "#3.25\n",
    "namelst=input(\"Enter names: \").split()\n",
    "for i in namelst:\n",
    "    alphabets=['A','B','C','D','E','F','G','H','I','J','K','L','M']\n",
    "    if i[0] in alphabets:\n",
    "        print(i)\n",
    "        "
   ]
  },
  {
   "cell_type": "code",
   "execution_count": 25,
   "metadata": {},
   "outputs": [
    {
     "name": "stdout",
     "output_type": "stream",
     "text": [
      "Enter a list:  3 5 7 9\n",
      "The first element is:  3\n",
      "The last element is:  9\n"
     ]
    }
   ],
   "source": [
    "#3.26\n",
    "numbers=input(\"Enter a list: \").split()\n",
    "print(\"The first element is: \",numbers[0])\n",
    "print(\"The last element is: \",numbers[-1])"
   ]
  },
  {
   "cell_type": "code",
   "execution_count": 42,
   "metadata": {},
   "outputs": [
    {
     "name": "stdout",
     "output_type": "stream",
     "text": [
      "Enter the positive integer: 5\n",
      "0\n",
      "5\n",
      "10\n",
      "15\n"
     ]
    }
   ],
   "source": [
    "#3.27\n",
    "n=int(input(\"Enter the positive integer: \"))\n",
    "for i in range(4):\n",
    "    print(n*i)"
   ]
  },
  {
   "cell_type": "code",
   "execution_count": 46,
   "metadata": {},
   "outputs": [
    {
     "name": "stdout",
     "output_type": "stream",
     "text": [
      "Enter integer: 3\n",
      "0\n",
      "1\n",
      "4\n"
     ]
    }
   ],
   "source": [
    "#3.28\n",
    "n=int(input(\"Enter integer: \"))\n",
    "for i in range(0,n):\n",
    "    print(i**2)"
   ]
  },
  {
   "cell_type": "code",
   "execution_count": 48,
   "metadata": {},
   "outputs": [
    {
     "name": "stdout",
     "output_type": "stream",
     "text": [
      "Enter an integer:49\n",
      "1\n",
      "7\n",
      "49\n"
     ]
    }
   ],
   "source": [
    "#3.29\n",
    "n=int(input(\"Enter an integer:\"))\n",
    "for i in range(1,n+1):\n",
    "    if(n%i==0):\n",
    "        print(i)"
   ]
  },
  {
   "cell_type": "code",
   "execution_count": 14,
   "metadata": {},
   "outputs": [
    {
     "name": "stdout",
     "output_type": "stream",
     "text": [
      "Enter first number: 4.5\n",
      "Enter second number: 3\n",
      "Enter third number: 3\n",
      "Enter last number: 3.5\n",
      "Equal\n"
     ]
    }
   ],
   "source": [
    "#3.30\n",
    "a=float(input(\"Enter first number: \"))\n",
    "b=float(input(\"Enter second number: \"))\n",
    "c=float(input(\"Enter third number: \"))\n",
    "d=float(input(\"Enter last number: \"))\n",
    "if (a+b+c)/3==d:\n",
    "    print(\"Equal\")\n",
    "    "
   ]
  },
  {
   "cell_type": "code",
   "execution_count": 10,
   "metadata": {},
   "outputs": [
    {
     "name": "stdout",
     "output_type": "stream",
     "text": [
      "Enter the x-coordinate: 2.5\n",
      "Enter the y-coordinate: 4\n"
     ]
    }
   ],
   "source": [
    "#3.31\n",
    "r=8\n",
    "a=0\n",
    "b=0\n",
    "x=eval(input(\"Enter the x-coordinate: \"))\n",
    "y=eval(input(\"Enter the y-coordinate: \"))\n",
    "point=(x-a)**2 + (y-b)**2\n",
    "if point<8:\n",
    "    print(\"It is in\")"
   ]
  },
  {
   "cell_type": "code",
   "execution_count": 13,
   "metadata": {},
   "outputs": [
    {
     "name": "stdout",
     "output_type": "stream",
     "text": [
      "Enter n: 1234\n",
      "1\n",
      "2\n",
      "3\n",
      "4\n"
     ]
    }
   ],
   "source": [
    "#3.32\n",
    "x=input(\"Enter n: \")\n",
    "x.split()\n",
    "for i in x:\n",
    "    print(i)\n",
    "\n"
   ]
  },
  {
   "cell_type": "code",
   "execution_count": 8,
   "metadata": {},
   "outputs": [
    {
     "data": {
      "text/plain": [
       "'and'"
      ]
     },
     "execution_count": 8,
     "metadata": {},
     "output_type": "execute_result"
    }
   ],
   "source": [
    "#3.33\n",
    "def reverse_string(n):\n",
    "    return n[::-1]\n",
    "\n",
    "reverse_string('dna')\n",
    "        \n",
    "    "
   ]
  },
  {
   "cell_type": "code",
   "execution_count": 27,
   "metadata": {},
   "outputs": [
    {
     "name": "stdout",
     "output_type": "stream",
     "text": [
      "Emplyees wage 1.5 times is:  675.0\n"
     ]
    }
   ],
   "source": [
    "#3.34\n",
    "def pay(hr_wage,tot_hrs):\n",
    "    x=hr_wage*tot_hrs\n",
    "    if tot_hrs>=40:\n",
    "        y=x*1.5\n",
    "        print(\"Emplyees wage 1.5 times is: \",y)\n",
    "    else:\n",
    "        print(\"Emplyees wage is: \",x)\n",
    "pay(10,45)        "
   ]
  },
  {
   "cell_type": "code",
   "execution_count": 24,
   "metadata": {},
   "outputs": [
    {
     "name": "stdout",
     "output_type": "stream",
     "text": [
      "The probality of getting heads n times is:  0.015625\n"
     ]
    }
   ],
   "source": [
    "#3.35\n",
    "def prob(n):\n",
    "    x=1/2**n\n",
    "    return(x)\n",
    "print(\"The probality of getting heads n times is: \",prob(6))\n"
   ]
  },
  {
   "cell_type": "code",
   "execution_count": 19,
   "metadata": {},
   "outputs": [
    {
     "data": {
      "text/plain": [
       "'321'"
      ]
     },
     "execution_count": 19,
     "metadata": {},
     "output_type": "execute_result"
    }
   ],
   "source": [
    "#3.36\n",
    "def reverse_int(x):\n",
    "    return x[::-1]\n",
    "reverse_int('123')"
   ]
  },
  {
   "cell_type": "code",
   "execution_count": 21,
   "metadata": {},
   "outputs": [
    {
     "data": {
      "text/plain": [
       "'Tu'"
      ]
     },
     "execution_count": 21,
     "metadata": {},
     "output_type": "execute_result"
    }
   ],
   "source": [
    "#3.38\n",
    "def abbreviation(x):\n",
    "    y=x[0:2]\n",
    "    return(y)\n",
    "abbreviation('Tuesday')"
   ]
  },
  {
   "cell_type": "code",
   "execution_count": 32,
   "metadata": {},
   "outputs": [
    {
     "data": {
      "text/plain": [
       "True"
      ]
     },
     "execution_count": 32,
     "metadata": {},
     "output_type": "execute_result"
    }
   ],
   "source": [
    "#3.39\n",
    "from math import sqrt\n",
    "def collision(x1,y1,r1,x2,y2,r2):\n",
    "    center_dis=sqrt((x1-x2)**2 +(y1-y2)**2)\n",
    "    if center_dis <=r1+r2:\n",
    "        return True\n",
    "    else:\n",
    "        return False\n",
    "collision(0, 0, 3, 0, 5, 3)\n",
    "    \n"
   ]
  },
  {
   "cell_type": "code",
   "execution_count": 35,
   "metadata": {},
   "outputs": [
    {
     "name": "stdout",
     "output_type": "stream",
     "text": [
      "Enter the list of names: Eleanor Evelyn Sammy Owen Gavin\n",
      "Eleanor\n",
      "Evelyn\n",
      "Gavin\n"
     ]
    }
   ],
   "source": [
    "#3.40\n",
    "def partition():\n",
    "    alphabets=['A','B','C','D','E','F','G','H','I','J','K','L','M']\n",
    "    x=input('Enter the list of names: ')\n",
    "    y=x.split()\n",
    "    for i in y:\n",
    "        if i[0] in alphabets:\n",
    "            print(i)\n",
    "partition()\n",
    "    \n",
    "    "
   ]
  },
  {
   "cell_type": "code",
   "execution_count": 41,
   "metadata": {},
   "outputs": [
    {
     "data": {
      "text/plain": [
       "'Abdul S.'"
      ]
     },
     "execution_count": 41,
     "metadata": {},
     "output_type": "execute_result"
    }
   ],
   "source": [
    "#3.41\n",
    "def lastF(F_name,L_name):\n",
    "    x=F_name+' '+L_name[0]+'.'\n",
    "    return (x)\n",
    "lastF('Abdul','Saboor')\n",
    "    \n",
    "    "
   ]
  },
  {
   "cell_type": "code",
   "execution_count": 46,
   "metadata": {},
   "outputs": [
    {
     "data": {
      "text/plain": [
       "True"
      ]
     },
     "execution_count": 46,
     "metadata": {},
     "output_type": "execute_result"
    }
   ],
   "source": [
    "#3.43\n",
    "def hit(x_c,y_c,r_C,x_p,y_p):\n",
    "    x=(x_p-x_c)**2 + (y_p-y_c)**2\n",
    "    y=r_C**2\n",
    "    if (x/y)<=r_C:\n",
    "        return True\n",
    "    else:\n",
    "        return False\n",
    "hit(0, 0, 3, 3, 0)    \n",
    "    \n"
   ]
  },
  {
   "cell_type": "code",
   "execution_count": 55,
   "metadata": {},
   "outputs": [
    {
     "name": "stdout",
     "output_type": "stream",
     "text": [
      "The distance is:  1.0208700000000002 km\n"
     ]
    }
   ],
   "source": [
    "def distance(t):\n",
    "    x=(340.29)*t\n",
    "    return(x) \n",
    "print(\"The distance is: \",distance(3/1000),\"km\")"
   ]
  }
 ],
 "metadata": {
  "kernelspec": {
   "display_name": "Python 3",
   "language": "python",
   "name": "python3"
  },
  "language_info": {
   "codemirror_mode": {
    "name": "ipython",
    "version": 3
   },
   "file_extension": ".py",
   "mimetype": "text/x-python",
   "name": "python",
   "nbconvert_exporter": "python",
   "pygments_lexer": "ipython3",
   "version": "3.7.3"
  }
 },
 "nbformat": 4,
 "nbformat_minor": 2
}
