{
 "cells": [
  {
   "cell_type": "markdown",
   "metadata": {},
   "source": [
    "# Lab 4 Assignment  "
   ]
  },
  {
   "cell_type": "code",
   "execution_count": 1,
   "metadata": {},
   "outputs": [
    {
     "name": "stdout",
     "output_type": "stream",
     "text": [
      "Enter the value of a: 4\n",
      "Enter the value of b: 6\n",
      "Enter the value of c: 12\n",
      "The Value of x1 is:  (-12+24.979991993593593j)\n",
      "The Value of x1 is:  (-12-24.979991993593593j)\n"
     ]
    }
   ],
   "source": [
    "# Question No 1 = Quadritic Equation\n",
    "\n",
    "from cmath import sqrt\n",
    "\n",
    "a = int(input(\"Enter the value of a: \" ))\n",
    "b = int(input(\"Enter the value of b: \" ))\n",
    "c = int(input(\"Enter the value of c: \"))\n",
    "\n",
    "if 2*a == 0:\n",
    "    print(\"The equation cannot solve because the denominator can't be Zero \")\n",
    "else:\n",
    "    x1 = (-b + sqrt(b**2 - 4*a*c)) /2*a\n",
    "    x2 = (-b - sqrt(b**2 - 4*a*c)) /2*a\n",
    "    print(\"The Value of x1 is: \" ,x1)\n",
    "    print(\"The Value of x1 is: \" ,x2)\n",
    "    "
   ]
  },
  {
   "cell_type": "code",
   "execution_count": 6,
   "metadata": {},
   "outputs": [
    {
     "name": "stdout",
     "output_type": "stream",
     "text": [
      "Enter the value of 1st term: 3\n",
      "Enter the value of Common Difference: 6\n",
      "Enter the value of nth Term: 35\n",
      "The nth value of sequence:  207\n",
      "Do You want to continue yes or no: yes\n",
      "Enter the value of 2nd term:96\n",
      "nth term of the 2nd sequence is:  573\n"
     ]
    }
   ],
   "source": [
    "# Question No 2 = an = a1 + (n-1)d\n",
    "\n",
    "a1 = int(input(\"Enter the value of 1st term: \"))\n",
    "d = int(input(\"Enter the value of Common Difference: \"))\n",
    "n = int(input(\"Enter the value of nth Term: \"))\n",
    "an = a1 + (n - 1)*d\n",
    "print (\"The nth value of sequence: \",an)\n",
    "x = str(input(\"Do You want to continue yes or no: \"))\n",
    "if x == 'yes':\n",
    "    n2=int(input(\"Enter the value of 2nd term:\"))\n",
    "    an1 = a1+ (n2 - 1)*d\n",
    "    print (\"nth term of the 2nd sequence is: \", an1)\n",
    "else:\n",
    "    print (\"ThankYou\")\n",
    "\n",
    "\n",
    "\n",
    "\n"
   ]
  },
  {
   "cell_type": "code",
   "execution_count": 4,
   "metadata": {},
   "outputs": [
    {
     "name": "stdout",
     "output_type": "stream",
     "text": [
      "Enter your name: Mujeeb Sheikh\n",
      "The string is not palindrome\n"
     ]
    }
   ],
   "source": [
    "# Question No 3 = Palindrome\n",
    "\n",
    "x = input(\"Enter your name: \")\n",
    "x=x.casefold()\n",
    "y=reversed(x)\n",
    "if list(x) == list(y):\n",
    "    print(\"The string is palindrome\")\n",
    "else:\n",
    "    print (\"The string is not palindrome\")\n"
   ]
  },
  {
   "cell_type": "code",
   "execution_count": 7,
   "metadata": {},
   "outputs": [
    {
     "name": "stdout",
     "output_type": "stream",
     "text": [
      "-----------------------------------------------------------------------------------------------------\n",
      "Board Of InterMediate Result 2019\n",
      "-----------------------------------------------------------------------------------------------------\n",
      "Enter your  Full Name : Mujeeb Sheikh\n",
      "Enter your Father Name : Saifullah Shaikh\n",
      "Enter your Roll no : 256348\n",
      "-----------------------------------------------------------------------------------------------------\n",
      "TOTAL MARKS\n",
      "-----------------------------------------------------------------------------------------------------\n",
      "Enter The Marks of Maths :95\n",
      "Enter The Marks of Chemistry :83\n",
      "Enter The Marks of Physics :81\n",
      "Enter The Marks of English :75\n",
      "Enter The Marks of Urdu :86\n",
      "The total obtained marks are : 339\n",
      "tot_marks: 500\n",
      "Percentage of Mujeeb Sheikh is 67.80000000000001\n",
      "B Grade\n",
      "-----------------------------------------------------------------------------------------------------\n",
      "x-------------------------------------x\n"
     ]
    }
   ],
   "source": [
    "# Question 4 = Marksheet\n",
    "\n",
    "print(\"-----------------------------------------------------------------------------------------------------\")\n",
    "print(\"Board Of InterMediate Result 2019\")\n",
    "print(\"-----------------------------------------------------------------------------------------------------\")\n",
    "   \n",
    "name = str(input(\"Enter your  Full Name : \"))\n",
    "father_name = str(input(\"Enter your Father Name : \"))\n",
    "roll_no = int(input(\"Enter your Roll no : \"))\n",
    "\n",
    "print(\"-----------------------------------------------------------------------------------------------------\")\n",
    "print(\"TOTAL MARKS\")\n",
    "print(\"-----------------------------------------------------------------------------------------------------\")\n",
    "Maths = int(input(\"Enter The Marks of Maths :\"))\n",
    "Chemistry = int(input(\"Enter The Marks of Chemistry :\"))\n",
    "Physics = int(input(\"Enter The Marks of Physics :\"))\n",
    "English= int(input(\"Enter The Marks of English :\"))\n",
    "Urdu = int(input(\"Enter The Marks of Urdu :\"))\n",
    "obt_marks=Maths+Chemistry+English+Urdu\n",
    "tot_marks=500\n",
    "print(\"The total obtained marks are :\",obt_marks)\n",
    "print(\"tot_marks: 500\")\n",
    "perc=obt_marks/tot_marks*100\n",
    "print(\"Percentage of\",name,\"is\",perc)\n",
    "if perc>=80:\n",
    "    print(\"A-one Grade\")\n",
    "if perc<80 and perc>=70:\n",
    "    print(\"A Grade\")\n",
    "if perc<70 and perc>=60:\n",
    "    print(\"B Grade\")\n",
    "if perc<60 and perc>=50:\n",
    "    print(\"C Grade\")\n",
    "if perc<50 and perc>=40:\n",
    "    print(\"FAIL\")\n",
    "print(\"-----------------------------------------------------------------------------------------------------\")\n",
    "print(\"x-------------------------------------x\")"
   ]
  },
  {
   "cell_type": "code",
   "execution_count": 2,
   "metadata": {},
   "outputs": [
    {
     "name": "stdout",
     "output_type": "stream",
     "text": [
      "Enter the number of rows:5\n",
      "Enter the number of columns:5\n",
      "Enter the entries row wise:\n",
      "1\n",
      "2\n",
      "3\n",
      "4\n",
      "5\n",
      "2\n",
      "4\n",
      "6\n",
      "8\n",
      "10\n",
      "3\n",
      "6\n",
      "9\n",
      "12\n",
      "15\n",
      "4\n",
      "8\n",
      "12\n",
      "16\n",
      "20\n",
      "5\n",
      "10\n",
      "15\n",
      "20\n",
      "25\n",
      "1 2 3 4 5 \n",
      "2 4 6 8 10 \n",
      "3 6 9 12 15 \n",
      "4 8 12 16 20 \n",
      "5 10 15 20 25 \n"
     ]
    }
   ],
   "source": [
    "# Question No 5 = Matrices\n",
    "\n",
    "A = int(input(\"Enter the number of rows:\"))\n",
    "B = int(input(\"Enter the number of columns:\"))\n",
    " \n",
    "# Initialize matrix\n",
    "matrix = []\n",
    "print(\"Enter the entries row wise:\")\n",
    " \n",
    "# For user input\n",
    "for i in range(A):          \n",
    "    a =[]\n",
    "    for j in range(B):     \n",
    "         a.append(int(input()))\n",
    "    matrix.append(a)\n",
    " \n",
    "\n",
    "for i in range(A):\n",
    "    for j in range(B):\n",
    "        print(matrix[i][j], end = \" \")\n",
    "    print()"
   ]
  },
  {
   "cell_type": "code",
   "execution_count": 5,
   "metadata": {},
   "outputs": [
    {
     "name": "stdout",
     "output_type": "stream",
     "text": [
      "[19, 14, 4]\n",
      "[10, 15, 9]\n",
      "[11, 8, 18]\n"
     ]
    }
   ],
   "source": [
    "# Question No 6: Add Two Matrices\n",
    "\n",
    "x = [[14,6,3],\n",
    "    [4 ,8,6],\n",
    "    [7 ,3,9]]\n",
    "y = [[5,8,1],\n",
    "    [6,7,3],\n",
    "    [4,5,9]]\n",
    "\n",
    "# iterate through rows\n",
    "for i in range(len(x)):\n",
    "   # iterate through columns\n",
    "   for j in range(len(x[0])):\n",
    "       result[i][j] = x[i][j] +y[i][j]\n",
    "for r in result:\n",
    "   print(r)"
   ]
  },
  {
   "cell_type": "code",
   "execution_count": 6,
   "metadata": {},
   "outputs": [
    {
     "name": "stdout",
     "output_type": "stream",
     "text": [
      "[70, 48, 3]\n",
      "[24, 56, 18]\n",
      "[28, 15, 81]\n"
     ]
    }
   ],
   "source": [
    "# Question No 7: Multiply Two Matrices\n",
    "\n",
    "x = [[14,6,3],\n",
    "    [4 ,8,6],\n",
    "    [7 ,3,9]]\n",
    "y = [[5,8,1],\n",
    "    [6,7,3],\n",
    "    [4,5,9]]\n",
    "\n",
    "# iterate through rows\n",
    "for i in range(len(x)):\n",
    "   # iterate through columns\n",
    "   for j in range(len(x[0])):\n",
    "       result[i][j] = x[i][j] * y[i][j]\n",
    "for r in result:\n",
    "   print(r)"
   ]
  }
 ],
 "metadata": {
  "kernelspec": {
   "display_name": "Python 3",
   "language": "python",
   "name": "python3"
  },
  "language_info": {
   "codemirror_mode": {
    "name": "ipython",
    "version": 3
   },
   "file_extension": ".py",
   "mimetype": "text/x-python",
   "name": "python",
   "nbconvert_exporter": "python",
   "pygments_lexer": "ipython3",
   "version": "3.7.3"
  }
 },
 "nbformat": 4,
 "nbformat_minor": 2
}
