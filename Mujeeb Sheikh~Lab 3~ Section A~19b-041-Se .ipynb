{
 "cells": [
  {
   "cell_type": "markdown",
   "metadata": {},
   "source": [
    "# LAB 3"
   ]
  },
  {
   "cell_type": "code",
   "execution_count": 1,
   "metadata": {},
   "outputs": [
    {
     "name": "stdout",
     "output_type": "stream",
     "text": [
      "Sum is: 32\n",
      "Difference is: -12\n",
      "Product is: 220\n",
      "Division is: 0.45454545454545453\n",
      "Integer Division is: 0\n",
      "Raised to the Power is: 10000000000000000000000\n",
      "Remainder is: 10\n"
     ]
    }
   ],
   "source": [
    "# Problem 1: Practicing With Math Operators\n",
    "\n",
    "# Math Operators In Python\n",
    "# Taking Two Values\n",
    "\n",
    "a = 10\n",
    "b = 22\n",
    "\n",
    "# Using Sum Operators\n",
    "print (\"Sum is:\", a + b )\n",
    "\n",
    "# Using Subtract Operators\n",
    "print (\"Difference is:\", a - b )\n",
    "\n",
    "# Using Multiplication Operators\n",
    "print (\"Product is:\", a * b )\n",
    "\n",
    "# Using Division Operators\n",
    "print (\"Division is:\", a / b )\n",
    "\n",
    "# Using Integer Division Operators\n",
    "print (\"Integer Division is:\", a // b )\n",
    "\n",
    "# Using Power Operators\n",
    "print (\"Raised to the Power is:\", a ** b )\n",
    "\n",
    "# Using Modulo Operators\n",
    "print (\"Remainder is:\", a % b )\n",
    "\n",
    "\n"
   ]
  },
  {
   "cell_type": "code",
   "execution_count": 2,
   "metadata": {},
   "outputs": [
    {
     "name": "stdout",
     "output_type": "stream",
     "text": [
      "8\n",
      "2\n",
      "15\n",
      "1.6666666666666667\n",
      "2\n",
      "1\n",
      "125\n",
      "1\n",
      "7\n",
      "6\n",
      "0\n",
      "40\n"
     ]
    }
   ],
   "source": [
    "# Program 2: Write a Program to use assignment operators\n",
    "\n",
    "x = 5\n",
    "x +=3\n",
    "print (x)\n",
    "\n",
    "x = 5\n",
    "x -=3\n",
    "print (x)\n",
    "\n",
    "x = 5\n",
    "x *=3\n",
    "print (x)\n",
    "\n",
    "x = 5\n",
    "x /=3\n",
    "print (x)\n",
    "\n",
    "x = 5\n",
    "x %=3\n",
    "print (x)\n",
    "\n",
    "x = 5\n",
    "x //=3\n",
    "print (x)\n",
    "\n",
    "x = 5\n",
    "x **=3\n",
    "print (x)\n",
    "\n",
    "x = 5\n",
    "x &=3\n",
    "print (x)\n",
    "\n",
    "x = 5\n",
    "x |=3\n",
    "print (x)\n",
    "\n",
    "x = 5\n",
    "x ^=3\n",
    "print (x)\n",
    "\n",
    "x = 5\n",
    "x >>=3\n",
    "print (x)\n",
    "\n",
    "x = 5\n",
    "x <<=3\n",
    "print (x)\n",
    "\n",
    "\n",
    "\n",
    "\n",
    "\n",
    "\n"
   ]
  },
  {
   "cell_type": "code",
   "execution_count": 3,
   "metadata": {},
   "outputs": [
    {
     "name": "stdout",
     "output_type": "stream",
     "text": [
      "X is equal to Y: False\n",
      "X is not equal to Y: True\n",
      "X is Greater than Y: True\n",
      "X is Less than Y: False\n",
      "X is Greater than or equal to Y: True\n",
      "X is Less than or equal to  Y: False\n"
     ]
    }
   ],
   "source": [
    "# Program 3: Write a program to perform comparision operators\n",
    "\n",
    "x = 20\n",
    "y = 15\n",
    "\n",
    "print (\"X is equal to Y:\", x==y)\n",
    "print (\"X is not equal to Y:\", x !=y)\n",
    "print (\"X is Greater than Y:\", x > y)\n",
    "print (\"X is Less than Y:\", x < y)\n",
    "print (\"X is Greater than or equal to Y:\", x>=y)\n",
    "print (\"X is Less than or equal to  Y:\", x<=y)"
   ]
  },
  {
   "cell_type": "code",
   "execution_count": 4,
   "metadata": {},
   "outputs": [
    {
     "name": "stdout",
     "output_type": "stream",
     "text": [
      "True\n",
      "False\n",
      "True\n"
     ]
    }
   ],
   "source": [
    "# Program 4: Write a program to perform logical operators\n",
    "\n",
    "x = 15\n",
    "print (x > 13 and x < 20)\n",
    "\n",
    "x = 25\n",
    "print (x > 23 and x < 24)\n",
    "\n",
    "x = 35\n",
    "print (x > 33 and x < 40)"
   ]
  },
  {
   "cell_type": "code",
   "execution_count": 5,
   "metadata": {},
   "outputs": [
    {
     "name": "stdout",
     "output_type": "stream",
     "text": [
      "True\n",
      "False\n",
      "True\n"
     ]
    }
   ],
   "source": [
    "# Problem 5: Write a Program to Perform identity operator\n",
    "\n",
    "x = [\"ahmed\" , \"bashir\"]\n",
    "\n",
    "y = [\"ahmed\" , \"bashir\"]\n",
    "\n",
    "z = x\n",
    "\n",
    "print (x is z)\n",
    "print (x is y)\n",
    "print (x == y)\n"
   ]
  },
  {
   "cell_type": "code",
   "execution_count": 2,
   "metadata": {},
   "outputs": [
    {
     "ename": "SyntaxError",
     "evalue": "invalid syntax (<ipython-input-2-fb827c9535a3>, line 9)",
     "output_type": "error",
     "traceback": [
      "\u001b[1;36m  File \u001b[1;32m\"<ipython-input-2-fb827c9535a3>\"\u001b[1;36m, line \u001b[1;32m9\u001b[0m\n\u001b[1;33m    print (x<>y)\u001b[0m\n\u001b[1;37m             ^\u001b[0m\n\u001b[1;31mSyntaxError\u001b[0m\u001b[1;31m:\u001b[0m invalid syntax\n"
     ]
    }
   ],
   "source": [
    "x = [\"ahmed\" , \"bashir\"]\n",
    "\n",
    "y = [\"ahmed\" , \"bashir\"]\n",
    "\n",
    "z = x\n",
    "\n",
    "print (x is not z)\n",
    "print (x is not y)\n",
    "print (x<>y)"
   ]
  },
  {
   "cell_type": "code",
   "execution_count": 3,
   "metadata": {},
   "outputs": [
    {
     "name": "stdout",
     "output_type": "stream",
     "text": [
      "False\n",
      "True\n",
      "False\n"
     ]
    }
   ],
   "source": [
    "x = [\"ahmed\" , \"bashir\"]\n",
    "\n",
    "y = [\"ahmed\" , \"bashir\"]\n",
    "\n",
    "z = x\n",
    "\n",
    "print (x is not z)\n",
    "print (x is not y)\n",
    "print (x>y)"
   ]
  },
  {
   "cell_type": "code",
   "execution_count": 23,
   "metadata": {},
   "outputs": [
    {
     "name": "stdout",
     "output_type": "stream",
     "text": [
      "faisal in x\n"
     ]
    }
   ],
   "source": [
    "# Program 7: Performing 'in' membership operations\n",
    "\n",
    "\n",
    "x = [\"wasim\", \"lubaid\", \"shahroz\", \"usman\", \"faisal\", \"farhan\"]\n",
    "print (\"faisal in x\")"
   ]
  },
  {
   "cell_type": "code",
   "execution_count": 24,
   "metadata": {},
   "outputs": [
    {
     "name": "stdout",
     "output_type": "stream",
     "text": [
      "True\n"
     ]
    }
   ],
   "source": [
    "# Program 8: Performing 'not in' membership operation\n",
    "\n",
    "x = [\"wasim\", \"lubaid\", \"shahroz\", \"usman\", \"faisal\", \"farhan\"]\n",
    "print (\"parkash\" not in x)"
   ]
  },
  {
   "cell_type": "code",
   "execution_count": 1,
   "metadata": {},
   "outputs": [
    {
     "name": "stdout",
     "output_type": "stream",
     "text": [
      "Give me a velocity to fire at (in m/s): 20\n",
      "Give me an angle to fire at : 45\n",
      "Give me how far away you are from the structure : 15\n",
      "Give me the height of the structure (in meters) : 25\n",
      "the time is: 1.0606601717798212\n",
      "velocity along x axis is: 0.7071067811865476\n",
      "Velocity along y axis is: -9.6873629022557\n",
      "final velocity is: 9.71313543609889\n"
     ]
    }
   ],
   "source": [
    "# Program 9: You are planning to throw a small bird at a distance d, with time t, and height h to some structure. \n",
    "# write a code in which you will use the physical quantities such as initial velocity, final velocity, angle in radians\n",
    "# gravity, height sling shot etc\n",
    "\n",
    "import math\n",
    "# User inputs\n",
    "velocity = float (input('Give me a velocity to fire at (in m/s):'))\n",
    "angle = float (input('Give me an angle to fire at :'))\n",
    "distance = float (input('Give me how far away you are from the structure :'))\n",
    "height = float (input('Give me the height of the structure (in meters) :'))\n",
    "slingshot = 5 #Height of slingshot in meters\n",
    "gravity = 9.8 #Earth Gravity\n",
    "\n",
    "# Converting angles to radians\n",
    "angleRad = math.radians(angle)\n",
    "\n",
    "# Computing our  x and y coordinate\n",
    "x = math.cos (angleRad)\n",
    "y = math.sin (angleRad)\n",
    "\n",
    "# Calculations\n",
    "time = distance/(velocity * x)\n",
    "vx = x\n",
    "vy = y + (-9.8 * time)\n",
    "finalVelocity = math.sqrt((vx ** 2) + (vy ** 2))\n",
    "\n",
    "print(\"the time is:\",time)\n",
    "print(\"velocity along x axis is:\",vx )\n",
    "print (\"Velocity along y axis is:\",vy)\n",
    "print (\"final velocity is:\",finalVelocity)"
   ]
  },
  {
   "cell_type": "code",
   "execution_count": null,
   "metadata": {},
   "outputs": [],
   "source": []
  },
  {
   "cell_type": "code",
   "execution_count": null,
   "metadata": {},
   "outputs": [],
   "source": []
  }
 ],
 "metadata": {
  "kernelspec": {
   "display_name": "Python 3",
   "language": "python",
   "name": "python3"
  },
  "language_info": {
   "codemirror_mode": {
    "name": "ipython",
    "version": 3
   },
   "file_extension": ".py",
   "mimetype": "text/x-python",
   "name": "python",
   "nbconvert_exporter": "python",
   "pygments_lexer": "ipython3",
   "version": "3.6.5"
  }
 },
 "nbformat": 4,
 "nbformat_minor": 2
}
