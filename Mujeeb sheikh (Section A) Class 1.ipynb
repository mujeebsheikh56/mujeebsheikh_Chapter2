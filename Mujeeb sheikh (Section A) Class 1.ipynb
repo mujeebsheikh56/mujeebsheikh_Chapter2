{
 "cells": [
  {
   "cell_type": "code",
   "execution_count": 2,
   "metadata": {
    "collapsed": false,
    "jupyter": {
     "outputs_hidden": false
    }
   },
   "outputs": [
    {
     "name": "stdout",
     "output_type": "stream",
     "text": [
      "Enter temperature in centigrade32\n",
      "Temperature in Fahrenheit is: 89.6\n"
     ]
    }
   ],
   "source": [
    "deg = int(input(\"Enter temperature in centigrade\"))\n",
    "Fahrenheit = str((deg * 9/5) + 32)\n",
    "print (\"Temperature in Fahrenheit is: \" + Fahrenheit)"
   ]
  },
  {
   "cell_type": "code",
   "execution_count": 1,
   "metadata": {
    "collapsed": false,
    "jupyter": {
     "outputs_hidden": false
    }
   },
   "outputs": [
    {
     "name": "stdout",
     "output_type": "stream",
     "text": [
      "What s Your NameMujeeb\n",
      "How old are you20\n",
      "Mujeebwill be 100 years old in the year2099\n"
     ]
    }
   ],
   "source": [
    "name = input(\"What s Your Name\")\n",
    "age = int(input(\"How old are you\"))\n",
    "year = str((2019 - age)+100)\n",
    "print(name + \"will be 100 years old in the year\" + year)"
   ]
  },
  {
   "cell_type": "code",
   "execution_count": 3,
   "metadata": {
    "collapsed": false,
    "jupyter": {
     "outputs_hidden": false
    }
   },
   "outputs": [
    {
     "name": "stdout",
     "output_type": "stream",
     "text": [
      "Twinkle, twinkle, little star, \n",
      "\thow I wonder what u are! \n",
      "\t\tUp above the world so high, \n",
      "\t\tlike a diamond in the sky.\n",
      "Twinkle, twinkle, little star, \n",
      "\thow i wonder what you are!\n"
     ]
    }
   ],
   "source": [
    "print( \"Twinkle, twinkle, little star, \\n\\thow I wonder what u are! \\n\\t\\tUp above the world so high, \\n\\t\\tlike a diamond in the sky.\\nTwinkle, twinkle, little star, \\n\\thow i wonder what you are!\")"
   ]
  },
  {
   "cell_type": "code",
   "execution_count": 4,
   "metadata": {
    "collapsed": false,
    "jupyter": {
     "outputs_hidden": false
    }
   },
   "outputs": [
    {
     "name": "stdout",
     "output_type": "stream",
     "text": [
      "Current date and time\n",
      "2019-10-22 13:56:10\n"
     ]
    }
   ],
   "source": [
    "import datetime\n",
    "now = datetime.datetime.now()\n",
    "print (\"Current date and time\")\n",
    "print (now.strftime(\"%Y-%m-%d %H:%M:%S\"))"
   ]
  },
  {
   "cell_type": "code",
   "execution_count": 5,
   "metadata": {
    "collapsed": false,
    "jupyter": {
     "outputs_hidden": false
    }
   },
   "outputs": [
    {
     "name": "stdout",
     "output_type": "stream",
     "text": [
      "Input the radius of the circle65\n",
      "the area of the circle with radius 65.0 is 13273.228961416877\n"
     ]
    }
   ],
   "source": [
    "from math import pi\n",
    "r = float(input (\"Input the radius of the circle\"))\n",
    "print (\"the area of the circle with radius \" + str(r) + \" is \" + str(pi * r**2))"
   ]
  },
  {
   "cell_type": "code",
   "execution_count": 6,
   "metadata": {
    "collapsed": false,
    "jupyter": {
     "outputs_hidden": false
    }
   },
   "outputs": [
    {
     "name": "stdout",
     "output_type": "stream",
     "text": [
      "Input your first name Mujeeb Ullah\n",
      "Input your last nameSheikh\n",
      " Hello Sheikh Mujeeb Ullah\n"
     ]
    }
   ],
   "source": [
    "fname = input(\"Input your first name \")\n",
    "lname = input(\"Input your last name\" )\n",
    "print (\" Hello \" + lname + \" \" + fname )"
   ]
  },
  {
   "cell_type": "code",
   "execution_count": 1,
   "metadata": {
    "scrolled": true
   },
   "outputs": [
    {
     "name": "stdout",
     "output_type": "stream",
     "text": [
      "Enter the length of rectangle63\n",
      "Enter the breadth of rectangle24\n",
      "the area of a rectange is 87\n"
     ]
    }
   ],
   "source": [
    "length = int(input(\"Enter the length of rectangle\"))\n",
    "breadth = int(input(\"Enter the breadth of rectangle\"))\n",
    "Area = str ( length + breadth )\n",
    "print (\"the area of a rectange is \" + Area)"
   ]
  },
  {
   "cell_type": "code",
   "execution_count": 11,
   "metadata": {
    "collapsed": false,
    "jupyter": {
     "outputs_hidden": false
    },
    "scrolled": true
   },
   "outputs": [
    {
     "name": "stdout",
     "output_type": "stream",
     "text": [
      "Input the year2019\n",
      " Input the month  10\n",
      "    October 2019\n",
      "Mo Tu We Th Fr Sa Su\n",
      "    1  2  3  4  5  6\n",
      " 7  8  9 10 11 12 13\n",
      "14 15 16 17 18 19 20\n",
      "21 22 23 24 25 26 27\n",
      "28 29 30 31\n",
      "\n"
     ]
    }
   ],
   "source": [
    "import calendar\n",
    "y = int(input(\"Input the year\"))\n",
    "m = int(input(\" Input the month \" ))\n",
    "print(calendar.month (y, m ))\n",
    "    "
   ]
  },
  {
   "cell_type": "code",
   "execution_count": 12,
   "metadata": {
    "collapsed": false,
    "jupyter": {
     "outputs_hidden": false
    }
   },
   "outputs": [
    {
     "name": "stdout",
     "output_type": "stream",
     "text": [
      "Enter temperature in Fahrenheit 15\n",
      "Temperature in degree is: -23.666666666666664\n"
     ]
    }
   ],
   "source": [
    "Fahrenheit = int(input(\"Enter temperature in Fahrenheit\"))\n",
    "degree = str((Fahrenheit * 5/9) - 32)\n",
    "print (\"Temperature in degree is: \" + degree )"
   ]
  },
  {
   "cell_type": "code",
   "execution_count": 1,
   "metadata": {
    "scrolled": true
   },
   "outputs": [
    {
     "name": "stdout",
     "output_type": "stream",
     "text": [
      "Enter the length of rectangle63\n",
      "Enter the breadth of rectangle24\n",
      "the area of a rectange is 87\n"
     ]
    }
   ],
   "source": [
    "length = int(input(\"Enter the length of rectangle\"))\n",
    "breadth = int(input(\"Enter the breadth of rectangle\"))\n",
    "Area = str ( length + breadth )\n",
    "print (\"the area of a rectange is \" + Area)"
   ]
  },
  {
   "cell_type": "code",
   "execution_count": 1,
   "metadata": {},
   "outputs": [
    {
     "name": "stdin",
     "output_type": "stream",
     "text": [
      "Input the Volume of the sphere 4\n"
     ]
    },
    {
     "name": "stdout",
     "output_type": "stream",
     "text": [
      "268.082573106329\n"
     ]
    }
   ],
   "source": [
    "from math import pi\n",
    "r = float(input (\"Input the Volume of the sphere\"))\n",
    "volume = (4/3 * pi * r**3)\n",
    "print (volume)"
   ]
  },
  {
   "cell_type": "code",
   "execution_count": 1,
   "metadata": {},
   "outputs": [
    {
     "name": "stdout",
     "output_type": "stream",
     "text": [
      "MUJEEB\n",
      "mujeeb\n",
      "Mujeeb\n"
     ]
    }
   ],
   "source": [
    "name = ( \"Mujeeb\" )\n",
    "print (name.upper())\n",
    "print (name.lower())\n",
    "print (name.title())\n"
   ]
  },
  {
   "cell_type": "code",
   "execution_count": null,
   "metadata": {},
   "outputs": [],
   "source": []
  }
 ],
 "metadata": {
  "anaconda-cloud": {},
  "kernelspec": {
   "display_name": "Python 3",
   "language": "python",
   "name": "python3"
  },
  "language_info": {
   "codemirror_mode": {
    "name": "ipython",
    "version": 3
   },
   "file_extension": ".py",
   "mimetype": "text/x-python",
   "name": "python",
   "nbconvert_exporter": "python",
   "pygments_lexer": "ipython3",
   "version": "3.7.3"
  }
 },
 "nbformat": 4,
 "nbformat_minor": 4
}
