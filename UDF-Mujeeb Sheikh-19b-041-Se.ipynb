{
 "cells": [
  {
   "cell_type": "markdown",
   "metadata": {},
   "source": [
    "# Python User Define Function Practice Activity - 2"
   ]
  },
  {
   "cell_type": "raw",
   "metadata": {},
   "source": [
    " Asst. Prof. Syed Faisal Ali    Programming Fundamentals - FALL 2019    Software Engineering    Dated: 27 Nov 2019"
   ]
  },
  {
   "cell_type": "raw",
   "metadata": {},
   "source": [
    "Question 1: Create a function to find the following: If the base of triangle is 3 cm long and its equilateral triangle and the radius of circle is 1.5 cm then find the area of triangle shaded"
   ]
  },
  {
   "cell_type": "code",
   "execution_count": 17,
   "metadata": {},
   "outputs": [
    {
     "name": "stdout",
     "output_type": "stream",
     "text": [
      "Area of a rectangle shaded is :  63.0794742359625 cm\n"
     ]
    }
   ],
   "source": [
    "# Time Taken 7mins\n",
    "from math import pi,sqrt\n",
    "\n",
    "def area():\n",
    "    base_of_triangle = 3\n",
    "    radius_of_circle = 1.5\n",
    "    height_of_triangle = sqrt(3**2 - 1.5**2)\n",
    "    Area_of_triangle = 6 *(1.5 * base_of_triangle * height_of_triangle)\n",
    "    Area_of_Circle = pi * radius_of_circle**2\n",
    "    Shaded = Area_of_triangle-Area_of_Circle\n",
    "    print(\"Area of a rectangle shaded is : \",Shaded,\"cm\" )\n",
    "area()\n",
    "    "
   ]
  },
  {
   "cell_type": "raw",
   "metadata": {},
   "source": [
    "Question 2: Create a function which can read a dictionary of your family members such as 5 members. 1 Abbu, 1 Ammi, 2 Brothers 1 Sister. Now feed this data in dictionary in terms of name and relations. The UDF will ask findrelation() in this you will enter Brother it will return the names of two brothers you have inserted. In case if the relation is not found it will return “Sorry the relation doesn’t exist in your family.”"
   ]
  },
  {
   "cell_type": "raw",
   "metadata": {},
   "source": [
    "Question 3: Create a function to find the following: If the base of triangle is 5 cm long and its equilateral triangle and the radius of circle is 2.25 cm then find the area of triangle shaded."
   ]
  },
  {
   "cell_type": "code",
   "execution_count": 18,
   "metadata": {},
   "outputs": [
    {
     "name": "stdout",
     "output_type": "stream",
     "text": [
      "Area of Shaded Region =  7.0685834705770345 cm\n"
     ]
    }
   ],
   "source": [
    "# Time Taken 2mins\n",
    "def area():\n",
    "    base_of_triangle = 3\n",
    "    radius_of_circle = 1.5\n",
    "    height_of_triangle = sqrt(3**2 - 1.5**2)\n",
    "    Area_of_triangle = 6 *(1.5 * base_of_triangle * height_of_triangle)\n",
    "    Area_of_Circle = pi * radius_of_circle**2\n",
    "    print(\"Area of Shaded Region = \", Area_of_Circle,\"cm\")\n",
    "area()"
   ]
  },
  {
   "cell_type": "raw",
   "metadata": {},
   "source": [
    "Question 4: Create a function that takes a list of random numbers from users and add only those which are even. If all the numbers are odd it will return sorry no even number found."
   ]
  },
  {
   "cell_type": "code",
   "execution_count": 41,
   "metadata": {},
   "outputs": [
    {
     "name": "stdout",
     "output_type": "stream",
     "text": [
      "Enter the Numbers : 2\n",
      "Enter the Numbers : 3\n",
      "Enter the Numbers : 4\n",
      "Enter the Numbers : 6\n",
      "Enter the Numbers : 7\n",
      "Enter the Numbers : 8\n",
      "Total Sum of Even Number =  20\n"
     ]
    }
   ],
   "source": [
    "# Time Taken 3mins\n",
    "def even():\n",
    "    x =[2,3,4,6,7,8]\n",
    "    sum = 0\n",
    "    for i in range(6):\n",
    "        x[i]=int(input(\"Enter the Numbers : \"))\n",
    "    for i in x:\n",
    "        if i%2==0:\n",
    "            sum = sum + i\n",
    "    print(\"Total Sum of Even Number = \",sum)\n",
    "even()\n"
   ]
  },
  {
   "cell_type": "markdown",
   "metadata": {},
   "source": [
    "Question 5: Write a function which can take a list of numbers and it will return sorted list."
   ]
  },
  {
   "cell_type": "code",
   "execution_count": 48,
   "metadata": {},
   "outputs": [
    {
     "name": "stdout",
     "output_type": "stream",
     "text": [
      "Enter The Number :5\n",
      "Enter The Number :6\n",
      "Enter The Number :8\n",
      "Enter The Number :7\n",
      "Enter The Number :1\n",
      "Enter The Number :3\n",
      "[1, 3, 5, 6, 7, 8]\n"
     ]
    }
   ],
   "source": [
    "# Time Taken 3.5mins\n",
    "\n",
    "def sort():\n",
    "    x = [0,0,0,0,0,0]\n",
    "    sum = 0\n",
    "    for i in range(6):\n",
    "        x[i]=int(input(\"Enter The Number :\"))\n",
    "    x.sort()\n",
    "    print(x)\n",
    "sort()"
   ]
  },
  {
   "cell_type": "raw",
   "metadata": {},
   "source": [
    "Question 6: Write a function that will take the radius and return the perimeter and area of circle with 5% increment."
   ]
  },
  {
   "cell_type": "code",
   "execution_count": 31,
   "metadata": {},
   "outputs": [
    {
     "name": "stdout",
     "output_type": "stream",
     "text": [
      "Original Area : 19.792033717615695 cm\n",
      "Area with 5% increment : 29.688050576423546 cm\n",
      "\n",
      "\n",
      "Original Perimeter : 18.84955592153876 cm\n",
      "Perimeter with 5% increment : 28.274333882308138 cm\n"
     ]
    }
   ],
   "source": [
    "# Time Taken 10mins\n",
    "\n",
    "from math import pi\n",
    "\n",
    "def increment(r):\n",
    "    Area_1=  pi * r**2\n",
    "    Perimeter_1 =2 * pi * r\n",
    "    Area_2 = (Area_1/100)*105\n",
    "    Perimeter_2=(Perimeter_1/100)*105\n",
    "    print(\"Original Area :\",Perimeter_2,\"cm\")\n",
    "    print(\"Area with 5% increment :\", Area_2,'cm')\n",
    "    print(\"\\n\")\n",
    "    print(\"Original Perimeter :\",Perimeter_1,'cm')\n",
    "    print(\"Perimeter with 5% increment :\",Area_1 ,'cm')\n",
    "increment(3)\n"
   ]
  },
  {
   "cell_type": "raw",
   "metadata": {},
   "source": [
    "Question 7: Write a function that will take the strings as argument and return number of vowels and consonants."
   ]
  },
  {
   "cell_type": "code",
   "execution_count": 55,
   "metadata": {},
   "outputs": [
    {
     "name": "stdout",
     "output_type": "stream",
     "text": [
      "Enter Your String : abcdefghijklmnopqrstuvwxyz\n",
      " Number of Vowels in your String :  5\n",
      " Number of Constant in your String :  21\n"
     ]
    }
   ],
   "source": [
    "# Time Taken 5mins\n",
    "def counting():\n",
    "    total = 0\n",
    "    count = 0\n",
    "    string = input(\"Enter Your String : \")\n",
    "    \n",
    "    for i in string:\n",
    "        if i in 'AEIOUaeiou':\n",
    "            total = total +1\n",
    "        else:\n",
    "            count = count + 1\n",
    "    print(\" Number of Vowels in your String : \",total)\n",
    "    print(\" Number of Constant in your String : \",count)\n",
    "counting()"
   ]
  },
  {
   "cell_type": "raw",
   "metadata": {},
   "source": [
    "Question 8: Write a function that will take length and breadth for a rectangle and return perimeter and area of rectangle with 8% increment."
   ]
  },
  {
   "cell_type": "code",
   "execution_count": 32,
   "metadata": {},
   "outputs": [
    {
     "name": "stdout",
     "output_type": "stream",
     "text": [
      "Enter Length of Rectangle : 4\n",
      "Enter Breadth of Rectangle : 5\n",
      "Original Area :  5 cm\n",
      "Area with 5% increment : 5.4 cm\n",
      "\n",
      "\n",
      "Original Perimeter : 12 cm\n",
      "Perimeter with 5% increment : 12.959999999999999 cm\n"
     ]
    }
   ],
   "source": [
    "# Time Taken 6mins:\n",
    "def increment():\n",
    "    length = int(input(\"Enter Length of Rectangle : \"))\n",
    "    breadth = int(input(\"Enter Breadth of Rectangle : \"))\n",
    "    Area_1= 1*breadth\n",
    "    Perimeter_1= 2*1+2*breadth\n",
    "    Area_2= (Area_1/100)*108\n",
    "    Perimeter_2 = (Perimeter_1/100)*108\n",
    "    print(\"Original Area : \",Area_1,'cm')\n",
    "    print(\"Area with 5% increment :\" , Area_2,'cm')\n",
    "    print(\"\\n\")\n",
    "    print(\"Original Perimeter :\",Perimeter_1,'cm' )\n",
    "    print(\"Perimeter with 5% increment :\",Perimeter_2,'cm' )\n",
    "increment()"
   ]
  },
  {
   "cell_type": "raw",
   "metadata": {},
   "source": [
    "Question 9: Write a function that can take the numbers in strings. From string find which number is even and which one is odd. Save them in two different lists and generate the result."
   ]
  },
  {
   "cell_type": "code",
   "execution_count": 59,
   "metadata": {},
   "outputs": [
    {
     "name": "stdout",
     "output_type": "stream",
     "text": [
      "Enter a Number : 2\n",
      "Enter a Number : 3\n",
      "Enter a Number : 4\n",
      "Enter a Number : 5\n",
      "Enter a Number : 7\n",
      "Enter a Number : 8\n",
      "Even Numbers :  ['2', '4', '8']\n",
      "Odd Numbers  :  ['3', '5', '7']\n"
     ]
    }
   ],
   "source": [
    "# Time Taken 2.5mins\n",
    "def evenodd():\n",
    "    x = []\n",
    "    y = []\n",
    "    for i in range(6):\n",
    "        num = str(input(\"Enter a Number : \"))\n",
    "        if int(num)%2==0:\n",
    "            x.append(num)\n",
    "        else:\n",
    "            y.append(num)\n",
    "    print(\"Even Numbers : \",x)\n",
    "    print(\"Odd Numbers  : \",y)\n",
    "evenodd()"
   ]
  },
  {
   "cell_type": "raw",
   "metadata": {},
   "source": [
    "uestion 10: Write a function which will take the string from the user and return how many alphabets have been used in it and which alphabets are missing."
   ]
  },
  {
   "cell_type": "code",
   "execution_count": 63,
   "metadata": {},
   "outputs": [
    {
     "name": "stdout",
     "output_type": "stream",
     "text": [
      "Alphabets Used :  5\n",
      "\n",
      "Alphabets not Used : \n",
      "['a', 'c', 'd', 'f', 'g', 'h', 'i', 'k', 'l', 'n', 'o', 'p', 'q', 'r', 's', 't', 'v', 'w', 'x', 'y', 'z']\n"
     ]
    }
   ],
   "source": [
    "# Time Taken 10mins\n",
    "def counter(y):\n",
    "    count= 0\n",
    "    x = ['a','b','c','d','e','f','g','h','i','j','k','l','M','n','o','p','q','r','s','t','u','v','w','x','y','z']\n",
    "    y.casefold()\n",
    "    z =['']\n",
    "    for i in y:\n",
    "        if i in x and i not in z:\n",
    "            count = count + 1 \n",
    "            c = z.append(i)\n",
    "            x.remove(i)\n",
    "    print(\"Alphabets Used : \" ,count)\n",
    "    print(\"\\nAlphabets not Used : \")\n",
    "    print(x)\n",
    "counter('Mujeeb')\n",
    "    "
   ]
  },
  {
   "cell_type": "raw",
   "metadata": {},
   "source": [
    "Question 11: Write a function that will take verbs in words and return a list of verbs with continuous tense by adding (ing) at the end of each verb."
   ]
  },
  {
   "cell_type": "code",
   "execution_count": 72,
   "metadata": {},
   "outputs": [
    {
     "name": "stdout",
     "output_type": "stream",
     "text": [
      "['Going', 'Walking', 'Eating', 'Playing', 'Enjoying']\n"
     ]
    }
   ],
   "source": [
    "# Time Taken 2min\n",
    "def countinuous():\n",
    "    verb=['Go','Walk','Eat','Play','Enjoy']\n",
    "    y =['','','','','']\n",
    "    for i in range(5):\n",
    "        k = 0\n",
    "    for x in verb:\n",
    "        y[k]=x+\"ing\"\n",
    "        k = k+1\n",
    "    print(y)\n",
    "countinuous()                  \n"
   ]
  },
  {
   "cell_type": "raw",
   "metadata": {},
   "source": [
    "Question 12: Make a function which can take two radius of circles and find the areas of it and subtract smaller one from larger one and tell the remaining area of circle."
   ]
  },
  {
   "cell_type": "code",
   "execution_count": 6,
   "metadata": {},
   "outputs": [
    {
     "name": "stdout",
     "output_type": "stream",
     "text": [
      "Enter radius  of 1st Circle  : 4\n",
      "Enter radius of 2nd Circle : 2\n",
      "Area of Circle =  50.26548245743669\n",
      "Area of Circle =  12.566370614359172\n",
      "Subtracting Area of Circle is:  37.69911184307752 cm\n"
     ]
    }
   ],
   "source": [
    "from math import pi\n",
    "def RArea():\n",
    "    radius1=eval(input(\"Enter radius  of 1st Circle  : \"))\n",
    "    radius2=eval(input(\"Enter radius of 2nd Circle : \"))\n",
    "    \n",
    "    circle1 = pi * radius1**2\n",
    "    print(\"Area of Circle = \",circle1)\n",
    "    circle2 = pi * radius2**2\n",
    "    print(\"Area of Circle = \",circle2)\n",
    "    \n",
    "    if circle1 > circle2 :\n",
    "        rem1 = circle1-circle2\n",
    "        print(\"Subtracting Area of Circle is: \", rem1,'cm')\n",
    "    elif circle2 > circle1 :\n",
    "        rem2 = circle2-circle1\n",
    "        print(\"Subtracting Area of Square  is:\" , rem2,'cm')\n",
    "\n",
    "RArea()"
   ]
  },
  {
   "cell_type": "raw",
   "metadata": {},
   "source": [
    "Question 13: Write a function that will take a string and calculate number of Upper case letters and lower case letters."
   ]
  },
  {
   "cell_type": "code",
   "execution_count": 79,
   "metadata": {},
   "outputs": [
    {
     "name": "stdout",
     "output_type": "stream",
     "text": [
      "Enter Your String : Mujeeb Sheikh\n",
      " Number of Uppercase :  2\n",
      " Number of Lowercase :  10\n"
     ]
    }
   ],
   "source": [
    "#time 2 minute\n",
    "def counting():\n",
    "    total = 0\n",
    "    count = 0\n",
    "    string = input(\"Enter Your String : \")\n",
    "    \n",
    "    for i in string:\n",
    "        if i in 'ABCDEFGHIJKLMNOPQRSTUVWXYZ':\n",
    "            total = total + 1\n",
    "        else:\n",
    "            if i in 'abcdefghijklmnopqrstuvwxyz':\n",
    "                count = count + 1\n",
    "    print(\" Number of Uppercase : \",total)\n",
    "    print(\" Number of Lowercase : \",count)\n",
    "counting()"
   ]
  },
  {
   "cell_type": "raw",
   "metadata": {},
   "source": [
    "Question 14: Write a function which will take length and breadth of two rectangles. Subtract the smaller rectangle from the larger rectangle and return the area left behind."
   ]
  },
  {
   "cell_type": "code",
   "execution_count": 35,
   "metadata": {},
   "outputs": [
    {
     "name": "stdout",
     "output_type": "stream",
     "text": [
      "Enter Length of Rectangle 1 : 4\n",
      "Enter Bredth of Rectangle 1 : 5\n",
      "Enter Length of Rectangle 2 : 6\n",
      "Enter Bredth of Rectangle 2 : 2\n",
      "Area of bigger Rectangle: 8 cm\n"
     ]
    }
   ],
   "source": [
    "# Time taken 13min:\n",
    "    \n",
    "def area():\n",
    "    length1=eval(input(\"Enter Length of Rectangle 1 : \"))\n",
    "    breadth1=eval(input(\"Enter Bredth of Rectangle 1 : \"))\n",
    "    length2=eval(input(\"Enter Length of Rectangle 2 : \"))\n",
    "    breadth2=eval(input(\"Enter Bredth of Rectangle 2 : \"))\n",
    "    area1 = length1*breadth1\n",
    "    area2 = length2*breadth2\n",
    "    if area1 > area2:\n",
    "        rem1= area1-area2\n",
    "        print(\"Area of bigger Rectangle:\",rem1,'cm')\n",
    "    if area2 > area1:\n",
    "        rem2= area2-area1\n",
    "        print(\"Area of Bigger Rectangle:\",rem2,'c,')  \n",
    "area()"
   ]
  },
  {
   "cell_type": "raw",
   "metadata": {},
   "source": [
    "Question 15: Create a function that can add the fractions in series such as 1 to 8 = 1/8+1/7+1/6+1/5 …… ½ and return the result in fraction not in decimal."
   ]
  },
  {
   "cell_type": "code",
   "execution_count": 83,
   "metadata": {},
   "outputs": [
    {
     "name": "stdout",
     "output_type": "stream",
     "text": [
      "13/42\n"
     ]
    }
   ],
   "source": [
    "#time Taken 4min\n",
    "def addfraction():\n",
    "    from fractions import Fraction\n",
    "    sum = 0\n",
    "    for i in range(6,8):\n",
    "        sum = sum + Fraction(1,i) \n",
    "        \n",
    "    print(sum)\n",
    "addfraction()"
   ]
  },
  {
   "cell_type": "raw",
   "metadata": {},
   "source": [
    "Question 16: Write a function which will take a list of fruits names. The function will return how many alphabets are repetitive in the names of fruits and how many are unique letters."
   ]
  },
  {
   "cell_type": "code",
   "execution_count": 8,
   "metadata": {},
   "outputs": [
    {
     "name": "stdout",
     "output_type": "stream",
     "text": [
      "Enter Fruit Name : Grapes\n",
      "Enter Fruit Name : apple\n",
      "Enter Fruit Name : Mango\n",
      "Enter Fruit Name : Cheery\n",
      "Enter Fruit Name : Strawberry\n",
      "Unique letters :  5\n",
      "Repetitive Letters :  27\n"
     ]
    }
   ],
   "source": [
    "def counter():\n",
    "    a = ['']\n",
    "    count = 0\n",
    "    total = 0\n",
    "    fruits=['','','','','']\n",
    "    for i in range(5):\n",
    "        fruits[i]=input(\"Enter Fruit Name : \")\n",
    "    for i in fruits:\n",
    "        for x in i :\n",
    "            if i in a:\n",
    "                count = count + 1 \n",
    "            if i not in a:\n",
    "                a.append(i)\n",
    "                total = total + 1 \n",
    "    print(\"Unique letters : \",total)\n",
    "    print(\"Repetitive Letters : \",count)\n",
    "counter()            "
   ]
  }
 ],
 "metadata": {
  "kernelspec": {
   "display_name": "Python 3",
   "language": "python",
   "name": "python3"
  },
  "language_info": {
   "codemirror_mode": {
    "name": "ipython",
    "version": 3
   },
   "file_extension": ".py",
   "mimetype": "text/x-python",
   "name": "python",
   "nbconvert_exporter": "python",
   "pygments_lexer": "ipython3",
   "version": "3.7.3"
  }
 },
 "nbformat": 4,
 "nbformat_minor": 2
}
