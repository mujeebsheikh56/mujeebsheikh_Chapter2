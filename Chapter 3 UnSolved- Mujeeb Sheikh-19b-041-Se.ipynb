{
 "cells": [
  {
   "cell_type": "markdown",
   "metadata": {},
   "source": [
    "# Chapter 3 UnSolved Exercise"
   ]
  },
  {
   "cell_type": "markdown",
   "metadata": {},
   "source": [
    "# 3.17 Part (a)(b)(c)(d)(e)"
   ]
  },
  {
   "cell_type": "code",
   "execution_count": 2,
   "metadata": {},
   "outputs": [
    {
     "name": "stdout",
     "output_type": "stream",
     "text": [
      "Enter Your Value: 2\n",
      "Enter Your Value: 3\n",
      "The Total Value is:  7\n"
     ]
    }
   ],
   "source": [
    "a = eval(input(\"Enter Your Value: \"))\n",
    "b = eval(input(\"Enter Your Value: \"))\n",
    "c= a*b+1\n",
    "print(\"The Total Value is: \",c)"
   ]
  },
  {
   "cell_type": "code",
   "execution_count": 10,
   "metadata": {},
   "outputs": [
    {
     "name": "stdout",
     "output_type": "stream",
     "text": [
      "Enter Word: Hello\n"
     ]
    },
    {
     "ename": "NameError",
     "evalue": "name 'Hello' is not defined",
     "output_type": "error",
     "traceback": [
      "\u001b[1;31m---------------------------------------------------------------------------\u001b[0m",
      "\u001b[1;31mNameError\u001b[0m                                 Traceback (most recent call last)",
      "\u001b[1;32m<ipython-input-10-a1d212b21e37>\u001b[0m in \u001b[0;36m<module>\u001b[1;34m\u001b[0m\n\u001b[1;32m----> 1\u001b[1;33m \u001b[0mb\u001b[0m \u001b[1;33m=\u001b[0m \u001b[0meval\u001b[0m\u001b[1;33m(\u001b[0m\u001b[0minput\u001b[0m\u001b[1;33m(\u001b[0m\u001b[1;34m\"Enter Word: \"\u001b[0m\u001b[1;33m)\u001b[0m\u001b[1;33m)\u001b[0m\u001b[1;33m\u001b[0m\u001b[1;33m\u001b[0m\u001b[0m\n\u001b[0m\u001b[0;32m      2\u001b[0m \u001b[0mprint\u001b[0m\u001b[1;33m(\u001b[0m\u001b[0mb\u001b[0m\u001b[1;33m)\u001b[0m\u001b[1;33m\u001b[0m\u001b[1;33m\u001b[0m\u001b[0m\n\u001b[0;32m      3\u001b[0m \u001b[1;33m\u001b[0m\u001b[0m\n\u001b[0;32m      4\u001b[0m \u001b[1;33m\u001b[0m\u001b[0m\n\u001b[0;32m      5\u001b[0m \u001b[1;31m# Because Hello Is a String\u001b[0m\u001b[1;33m\u001b[0m\u001b[1;33m\u001b[0m\u001b[1;33m\u001b[0m\u001b[0m\n",
      "\u001b[1;32m<string>\u001b[0m in \u001b[0;36m<module>\u001b[1;34m\u001b[0m\n",
      "\u001b[1;31mNameError\u001b[0m: name 'Hello' is not defined"
     ]
    }
   ],
   "source": [
    "b = eval(input(\"Enter Word: \"))\n",
    "print(b)\n",
    "\n",
    "\n",
    "# Because Hello Is a String\n",
    "# We Will Use Str Not Eval\n"
   ]
  },
  {
   "cell_type": "code",
   "execution_count": 22,
   "metadata": {},
   "outputs": [
    {
     "name": "stdout",
     "output_type": "stream",
     "text": [
      "Enter Your String : Hello World\n",
      "Hello World\n"
     ]
    }
   ],
   "source": [
    "x = str(input(\"Enter Your String : \"))\n",
    "print(x)\n",
    "\n",
    "# WE Cant Use Eval For a String\n",
    "\n"
   ]
  },
  {
   "cell_type": "code",
   "execution_count": 23,
   "metadata": {},
   "outputs": [
    {
     "name": "stdout",
     "output_type": "stream",
     "text": [
      "2\n"
     ]
    }
   ],
   "source": [
    "c = 'ASCII'\n",
    "z =c.count('I')\n",
    "print(z)\n",
    "\n",
    "# WE Cant Use Eval For a String"
   ]
  },
  {
   "cell_type": "code",
   "execution_count": 25,
   "metadata": {},
   "outputs": [
    {
     "name": "stdout",
     "output_type": "stream",
     "text": [
      "Enter Your Value is: 5\n",
      "5\n"
     ]
    }
   ],
   "source": [
    "x=eval(input(\"Enter Your Value is: \"))\n",
    "print(x)"
   ]
  },
  {
   "cell_type": "markdown",
   "metadata": {},
   "source": [
    "# 3.18"
   ]
  },
  {
   "cell_type": "code",
   "execution_count": 42,
   "metadata": {
    "scrolled": true
   },
   "outputs": [
    {
     "name": "stdout",
     "output_type": "stream",
     "text": [
      "a) Ok\n",
      "d) Ok\n"
     ]
    }
   ],
   "source": [
    "a, b, c = 3, 4, 5 \n",
    "if a<b:\n",
    "    print(\"a) Ok\")\n",
    "if c<b:\n",
    "    print(\"b) Ok\")\n",
    "if a+b==c:\n",
    "    print(\"c) Ok\")\n",
    "if a**2+b**2==c**2:\n",
    "    print(\"d) Ok\")\n",
    "\n",
    "    "
   ]
  },
  {
   "cell_type": "markdown",
   "metadata": {},
   "source": [
    "# 3.19"
   ]
  },
  {
   "cell_type": "code",
   "execution_count": 47,
   "metadata": {},
   "outputs": [
    {
     "name": "stdout",
     "output_type": "stream",
     "text": [
      "a) Ok\n",
      "b) Not Ok\n",
      "c) Not Ok\n",
      "d) Ok\n"
     ]
    }
   ],
   "source": [
    "a, b, c = 3, 4, 5 \n",
    "if a<b:\n",
    "    print(\"a) Ok\")\n",
    "if c<b:\n",
    "    print(\"b) Ok\")\n",
    "else:\n",
    "    print(\"b) Not Ok\")\n",
    "if a+b==c:\n",
    "    print(\"c) Ok\")\n",
    "else:\n",
    "    print(\"c) Not Ok\")\n",
    "if a**2+b**2==c**2:\n",
    "    print(\"d) Ok\")"
   ]
  },
  {
   "cell_type": "markdown",
   "metadata": {},
   "source": [
    "# 3.20"
   ]
  },
  {
   "cell_type": "code",
   "execution_count": 50,
   "metadata": {},
   "outputs": [
    {
     "name": "stdout",
     "output_type": "stream",
     "text": [
      "The Iterate form Jan\n",
      "The Iterate form Feb\n",
      "The Iterate form Mar\n"
     ]
    }
   ],
   "source": [
    "lst = ['January', 'February', 'March']\n",
    "for i in lst:\n",
    "    print(\"The Iterate form\",i[:3])"
   ]
  },
  {
   "cell_type": "markdown",
   "metadata": {},
   "source": [
    "# 3.21"
   ]
  },
  {
   "cell_type": "code",
   "execution_count": 53,
   "metadata": {},
   "outputs": [
    {
     "name": "stdout",
     "output_type": "stream",
     "text": [
      "2\n",
      "4\n",
      "6\n",
      "8\n"
     ]
    }
   ],
   "source": [
    "lst = [2, 3, 4, 5, 6, 7, 8, 9]\n",
    "for i in lst:\n",
    "    if i%2==0:\n",
    "        print(i)"
   ]
  },
  {
   "cell_type": "markdown",
   "metadata": {},
   "source": [
    "# 3.22"
   ]
  },
  {
   "cell_type": "code",
   "execution_count": 57,
   "metadata": {},
   "outputs": [
    {
     "name": "stdout",
     "output_type": "stream",
     "text": [
      "4\n",
      "8\n"
     ]
    }
   ],
   "source": [
    " lst= [2, 3, 4, 5, 6, 7, 8, 9]\n",
    "for i in lst:\n",
    "    if i**2%8==0:\n",
    "        print(i)"
   ]
  },
  {
   "cell_type": "markdown",
   "metadata": {},
   "source": [
    "# 3.23\n"
   ]
  },
  {
   "cell_type": "code",
   "execution_count": 86,
   "metadata": {},
   "outputs": [
    {
     "name": "stdout",
     "output_type": "stream",
     "text": [
      "0 1 \n",
      "0 \n",
      "3 4 5 6 \n",
      "1 \n",
      "0 3 \n",
      "5 9 13 17 21 "
     ]
    }
   ],
   "source": [
    "for i in range(2):\n",
    "    print(i,end=\" \")\n",
    "print()\n",
    "for i in range(1):\n",
    "    print(i,end=\" \")\n",
    "print()\n",
    "for i in range(3,7):\n",
    "    print(i,end=\" \")\n",
    "print()\n",
    "for i in range(1,2):\n",
    "    print(i,end=\" \")\n",
    "print()\n",
    "for i in range(0,4,3):\n",
    "    print(i,end=\" \")\n",
    "print()\n",
    "for i in range(5,22,4):\n",
    "    print(i,end=\" \")"
   ]
  }
 ],
 "metadata": {
  "kernelspec": {
   "display_name": "Python 3",
   "language": "python",
   "name": "python3"
  },
  "language_info": {
   "codemirror_mode": {
    "name": "ipython",
    "version": 3
   },
   "file_extension": ".py",
   "mimetype": "text/x-python",
   "name": "python",
   "nbconvert_exporter": "python",
   "pygments_lexer": "ipython3",
   "version": "3.7.3"
  }
 },
 "nbformat": 4,
 "nbformat_minor": 2
}
