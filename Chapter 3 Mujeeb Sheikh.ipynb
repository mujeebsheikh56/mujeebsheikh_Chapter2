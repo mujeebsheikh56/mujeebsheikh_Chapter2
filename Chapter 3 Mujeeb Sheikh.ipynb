{
 "cells": [
  {
   "cell_type": "markdown",
   "metadata": {},
   "source": [
    "# Solutions to Practice Problems"
   ]
  },
  {
   "cell_type": "markdown",
   "metadata": {},
   "source": [
    "# Chapter 3 Solved"
   ]
  },
  {
   "cell_type": "markdown",
   "metadata": {},
   "source": [
    "# 3.1"
   ]
  },
  {
   "cell_type": "code",
   "execution_count": 4,
   "metadata": {},
   "outputs": [
    {
     "name": "stdout",
     "output_type": "stream",
     "text": [
      "Enter the temperature in degrees Fahrenheit: 150\n",
      "The temperature in degrees Celsius is 65.55555555555556 Celsius\n"
     ]
    }
   ],
   "source": [
    "fahr = eval(input('Enter the temperature in degrees Fahrenheit: ')) \n",
    "cels = (fahr - 32) * 5 / 9 \n",
    "print('The temperature in degrees Celsius is', cels,'Celsius') "
   ]
  },
  {
   "cell_type": "markdown",
   "metadata": {},
   "source": [
    "# 3.2"
   ]
  },
  {
   "cell_type": "code",
   "execution_count": 39,
   "metadata": {},
   "outputs": [
    {
     "name": "stdout",
     "output_type": "stream",
     "text": [
      "You can get your pension benefits!\n",
      "One of the top 5 baseball players, ever!\n",
      "You're dead ...\n",
      "I can escape.\n"
     ]
    }
   ],
   "source": [
    "age = 74\n",
    "name = 'Mujeeb'\n",
    "hits = 20\n",
    "shield = 0\n",
    "north = 30\n",
    "south= 40\n",
    "east = 50\n",
    "west = 60\n",
    "if age > 62: \n",
    "        print('You can get your pension benefits!') \n",
    "if name in ['Mujeeb','Safi','Abdullah','Saboor']: \n",
    "    print('One of the top 5 baseball players, ever!') \n",
    "if hits > 10 and shield == 0: \n",
    "    print('You\\'re dead ...')\n",
    "if north or south or east or west: \n",
    "    print('I can escape.') "
   ]
  },
  {
   "cell_type": "markdown",
   "metadata": {},
   "source": [
    "# 3.3"
   ]
  },
  {
   "cell_type": "code",
   "execution_count": 3,
   "metadata": {},
   "outputs": [
    {
     "name": "stdout",
     "output_type": "stream",
     "text": [
      "Could be a leap year.\n",
      "You won!\n"
     ]
    }
   ],
   "source": [
    "year = 2004\n",
    "lottery = 20\n",
    "ticket = 20\n",
    "\n",
    "if year % 4 == 0:\n",
    "    print('Could be a leap year.') \n",
    "else: \n",
    "    print('Definitely not a leap year.') \n",
    "if ticket == lottery: \n",
    "    print('You won!') \n",
    "else: print('Better luck next time...') "
   ]
  },
  {
   "cell_type": "markdown",
   "metadata": {},
   "source": [
    "# 3.4"
   ]
  },
  {
   "cell_type": "code",
   "execution_count": 6,
   "metadata": {},
   "outputs": [
    {
     "name": "stdout",
     "output_type": "stream",
     "text": [
      "Login: Mujeeb Sheikh\n",
      "User unknown.\n",
      "Done.\n"
     ]
    }
   ],
   "source": [
    "users = ['joe', 'sue', 'hani', 'sophie'] \n",
    "id = input('Login: ') \n",
    "if id in users: \n",
    "    print('You are in!')\n",
    "else: \n",
    "    print('User unknown.') \n",
    "    print('Done.')"
   ]
  },
  {
   "cell_type": "markdown",
   "metadata": {},
   "source": [
    "# 3.5"
   ]
  },
  {
   "cell_type": "code",
   "execution_count": 26,
   "metadata": {},
   "outputs": [
    {
     "name": "stdout",
     "output_type": "stream",
     "text": [
      "Safi\n",
      "Sami\n"
     ]
    }
   ],
   "source": [
    "wordList = ['Safi','Mujeeb','Sami']\n",
    "for word in wordList:\n",
    "    if len(word) == 4:\n",
    "        print(word)"
   ]
  },
  {
   "cell_type": "markdown",
   "metadata": {},
   "source": [
    "# 3.6"
   ]
  },
  {
   "cell_type": "code",
   "execution_count": 28,
   "metadata": {},
   "outputs": [
    {
     "name": "stdout",
     "output_type": "stream",
     "text": [
      "0\n",
      "1\n",
      "2\n",
      "3\n",
      "4\n",
      "5\n",
      "6\n",
      "7\n",
      "8\n",
      "9\n",
      "0\n",
      "1\n"
     ]
    }
   ],
   "source": [
    "for i in range(10): \n",
    "    print(i) \n",
    "for i in range(2): \n",
    "    print(i) "
   ]
  },
  {
   "cell_type": "markdown",
   "metadata": {},
   "source": [
    "# 3.7"
   ]
  },
  {
   "cell_type": "code",
   "execution_count": 30,
   "metadata": {},
   "outputs": [
    {
     "name": "stdout",
     "output_type": "stream",
     "text": [
      "3\n",
      "4\n",
      "5\n",
      "6\n",
      "7\n",
      "8\n",
      "9\n",
      "10\n",
      "11\n",
      "12\n",
      "0\n",
      "3\n",
      "6\n",
      "9\n",
      "12\n",
      "15\n",
      "18\n",
      "21\n",
      "0\n",
      "2\n",
      "4\n",
      "6\n",
      "8\n",
      "3\n",
      "8\n"
     ]
    }
   ],
   "source": [
    "for i in range (3,13):\n",
    "    print(i)\n",
    "for i in range (0,24,3):\n",
    "    print(i)\n",
    "for i in range (0,10,2):\n",
    "    print(i)\n",
    "for i in range (3,12,5):\n",
    "    print(i)\n",
    "    \n",
    "    \n",
    "    \n",
    "    \n"
   ]
  },
  {
   "cell_type": "markdown",
   "metadata": {},
   "source": [
    "# 3.8"
   ]
  },
  {
   "cell_type": "code",
   "execution_count": 36,
   "metadata": {},
   "outputs": [
    {
     "name": "stdout",
     "output_type": "stream",
     "text": [
      "The Perimeter of a Circle is:  31.41592653589793 cm\n"
     ]
    }
   ],
   "source": [
    "import math \n",
    "def perimeter(radius): \n",
    "    return (2 * math.pi * radius)\n",
    "print(\"The Perimeter of a Circle is: \",perimeter(5),'cm')"
   ]
  },
  {
   "cell_type": "markdown",
   "metadata": {},
   "source": [
    "# 3.9"
   ]
  },
  {
   "cell_type": "code",
   "execution_count": 39,
   "metadata": {},
   "outputs": [
    {
     "name": "stdout",
     "output_type": "stream",
     "text": [
      "The Average of x and y is :  3.0\n"
     ]
    }
   ],
   "source": [
    "def average(x, y): \n",
    "    return (x + y) / 2\n",
    "print(\"The Average of x and y is : \",average(3,3))"
   ]
  },
  {
   "cell_type": "markdown",
   "metadata": {},
   "source": [
    "# 3.10"
   ]
  },
  {
   "cell_type": "code",
   "execution_count": 55,
   "metadata": {},
   "outputs": [
    {
     "name": "stdout",
     "output_type": "stream",
     "text": [
      "The Including vowels In a String is:  True\n"
     ]
    }
   ],
   "source": [
    "def noVowel(s): \n",
    "    for c in s: \n",
    "        if c in 'aeiouAEIOU':\n",
    "            return False\n",
    "        else:\n",
    "            return True\n",
    "print(\"The Including vowels In a String is: \",noVowel('bzx'))"
   ]
  },
  {
   "cell_type": "markdown",
   "metadata": {},
   "source": [
    "# 3.11"
   ]
  },
  {
   "cell_type": "code",
   "execution_count": 56,
   "metadata": {},
   "outputs": [
    {
     "data": {
      "text/plain": [
       "False"
      ]
     },
     "execution_count": 56,
     "metadata": {},
     "output_type": "execute_result"
    }
   ],
   "source": [
    "def allEven(numList):\n",
    "    numList=(1,2,3,5,7,9,10)\n",
    "    for num in numList: \n",
    "            if num%2 != 0: \n",
    "                return False\n",
    "            else:\n",
    "                return True\n",
    "allEven(5)\n"
   ]
  },
  {
   "cell_type": "markdown",
   "metadata": {},
   "source": [
    "# 3.12"
   ]
  },
  {
   "cell_type": "code",
   "execution_count": 67,
   "metadata": {},
   "outputs": [
    {
     "name": "stdout",
     "output_type": "stream",
     "text": [
      "-1\n",
      "-2\n",
      "-3\n"
     ]
    }
   ],
   "source": [
    "def negatives():\n",
    "    lst=[-1,1,-2,-3,1]\n",
    "    for i in lst: \n",
    "        if i < 0: \n",
    "            print(i)\n",
    "negatives()\n"
   ]
  },
  {
   "cell_type": "markdown",
   "metadata": {},
   "source": [
    "# 3.15"
   ]
  },
  {
   "cell_type": "code",
   "execution_count": 72,
   "metadata": {},
   "outputs": [
    {
     "name": "stdout",
     "output_type": "stream",
     "text": [
      "['Sarah', 'Eleanor', 'Clare', 'Ava']\n"
     ]
    }
   ],
   "source": [
    "team = ['Ava','Eleanor','Clare','Sarah']\n",
    "team[0],team[-1] = team[-1],team[0]\n",
    "print(team)"
   ]
  },
  {
   "cell_type": "markdown",
   "metadata": {},
   "source": [
    "# 3.16"
   ]
  },
  {
   "cell_type": "code",
   "execution_count": 90,
   "metadata": {},
   "outputs": [
    {
     "name": "stdout",
     "output_type": "stream",
     "text": [
      "Swapped List is :  ['butter', 'Sugar', 'apples', 'Flour']\n"
     ]
    }
   ],
   "source": [
    "def swapFL():\n",
    "    ingredients = ['Flour','Sugar','apples','butter']\n",
    "    ingredients[0],ingredients[-1]=ingredients[-1],ingredients[0]\n",
    "    print(\"Swapped List is : \",ingredients)\n",
    "swapFL()\n",
    "    "
   ]
  }
 ],
 "metadata": {
  "kernelspec": {
   "display_name": "Python 3",
   "language": "python",
   "name": "python3"
  },
  "language_info": {
   "codemirror_mode": {
    "name": "ipython",
    "version": 3
   },
   "file_extension": ".py",
   "mimetype": "text/x-python",
   "name": "python",
   "nbconvert_exporter": "python",
   "pygments_lexer": "ipython3",
   "version": "3.7.3"
  }
 },
 "nbformat": 4,
 "nbformat_minor": 2
}
